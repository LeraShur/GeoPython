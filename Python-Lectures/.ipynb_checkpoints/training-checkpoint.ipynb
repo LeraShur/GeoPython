{
 "cells": [
  {
   "cell_type": "code",
   "execution_count": 1,
   "metadata": {},
   "outputs": [
    {
     "name": "stdout",
     "output_type": "stream",
     "text": [
      "[1, 3, 2]\n"
     ]
    }
   ],
   "source": [
    "#flatten the list\n",
    "a = [[1],[3],[2]]\n",
    "b = []\n",
    "\n",
    "for n in a:\n",
    "    for i in n:\n",
    "        b.append(i)\n",
    "print(b)"
   ]
  },
  {
   "cell_type": "code",
   "execution_count": 38,
   "metadata": {},
   "outputs": [
    {
     "name": "stdout",
     "output_type": "stream",
     "text": [
      "[[1], [3], [2]]\n"
     ]
    }
   ],
   "source": [
    "#create nested list from flat\n",
    "b = [1, 3, 2]\n",
    "a = []\n",
    "\n",
    "for i in b:\n",
    "    a.append([i])\n",
    "print(a)"
   ]
  },
  {
   "cell_type": "code",
   "execution_count": 17,
   "metadata": {},
   "outputs": [
    {
     "name": "stdout",
     "output_type": "stream",
     "text": [
      "5 has occurred 2 times\n"
     ]
    }
   ],
   "source": [
    "#count occur of 5 and put in dictionary\n",
    "a = [2, 3, 5, 2, 6, 5]\n",
    "\n",
    "count = 0\n",
    "for i in a:\n",
    "    if i == 5:\n",
    "        count = count + 1\n",
    "        \n",
    "print('5 has occurred {} times'.format(count))"
   ]
  },
  {
   "cell_type": "code",
   "execution_count": 23,
   "metadata": {},
   "outputs": [
    {
     "name": "stdout",
     "output_type": "stream",
     "text": [
      "Counter({2: 2, 5: 2, 3: 1, 6: 1})\n"
     ]
    }
   ],
   "source": [
    "from collections import Counter\n",
    "counted = Counter(a)\n",
    "print(counted)"
   ]
  },
  {
   "cell_type": "code",
   "execution_count": 82,
   "metadata": {},
   "outputs": [
    {
     "name": "stdout",
     "output_type": "stream",
     "text": [
      "{(6, 1), (3, 1), (5, 2), (2, 2)}\n"
     ]
    }
   ],
   "source": [
    "#count occurences of unique values\n",
    "a = [2, 3, 5, 2, 6, 5]\n",
    "b = []\n",
    "for val in a:\n",
    "    b.append(a.count(val))\n",
    "print(set(zip(a, b)))"
   ]
  },
  {
   "cell_type": "code",
   "execution_count": 21,
   "metadata": {},
   "outputs": [
    {
     "name": "stdout",
     "output_type": "stream",
     "text": [
      "[2, 3, 5, 6]\n"
     ]
    }
   ],
   "source": [
    "#how to get unique values from a list\n",
    "a = [2, 3, 5, 2, 6, 5]\n",
    "b = set(a)\n",
    "print(list(b))"
   ]
  },
  {
   "cell_type": "code",
   "execution_count": 29,
   "metadata": {},
   "outputs": [
    {
     "name": "stdout",
     "output_type": "stream",
     "text": [
      "[2, 7, 5, 2, 6, 5]\n"
     ]
    }
   ],
   "source": [
    "#How to change all occurrences of a specific list item (c.f. each 3 into 7)? by list comprehension\n",
    "a = [2, 3, 5, 2, 6, 5]\n",
    "\n",
    "a = [i \n",
    "     if i != 3 \n",
    "     else 7 for i in a]\n",
    "print(a)"
   ]
  },
  {
   "cell_type": "code",
   "execution_count": 30,
   "metadata": {},
   "outputs": [
    {
     "name": "stdout",
     "output_type": "stream",
     "text": [
      "[[7], [3], [5, 7, 6], [5]]\n"
     ]
    }
   ],
   "source": [
    "#How to change all occurrences in a nested list (c.f. each 2 into 7)? again by a nested list comprehension:\n",
    "a = [[2], [3], [5, 2, 6], [5]]\n",
    "\n",
    "a = [[i\n",
    "    if i != 2\n",
    "    else 7 for i in b] for b in a]\n",
    "print(a)"
   ]
  },
  {
   "cell_type": "code",
   "execution_count": 35,
   "metadata": {},
   "outputs": [
    {
     "name": "stdout",
     "output_type": "stream",
     "text": [
      "['a', 'b', 'c']\n"
     ]
    }
   ],
   "source": [
    "#How to break up a list stored as a string into a list with individual items:\n",
    "a = 'a b c'\n",
    "\n",
    "b = a.split()\n",
    "print(b)"
   ]
  },
  {
   "cell_type": "code",
   "execution_count": 36,
   "metadata": {},
   "outputs": [
    {
     "name": "stdout",
     "output_type": "stream",
     "text": [
      "{1, 2, 3, 4, 5, 6, 7, 8, 9, 10, 11, 12, 13, 14, 15}\n"
     ]
    }
   ],
   "source": [
    "#How to create a dictionary with values from 1 to 15\n",
    "a = set(range(1,16))\n",
    "print(a)"
   ]
  },
  {
   "cell_type": "code",
   "execution_count": 40,
   "metadata": {},
   "outputs": [
    {
     "name": "stdout",
     "output_type": "stream",
     "text": [
      "[2, 3, 2, 6]\n"
     ]
    }
   ],
   "source": [
    "#What would remove all members with a specific value (5) from the list?\n",
    "a = [2, 3, 5, 2, 6, 5]\n",
    "b = [i for i in a\n",
    "    if i != 5]\n",
    "print(b)"
   ]
  },
  {
   "cell_type": "code",
   "execution_count": 47,
   "metadata": {},
   "outputs": [
    {
     "name": "stdout",
     "output_type": "stream",
     "text": [
      "[0, 3]\n"
     ]
    }
   ],
   "source": [
    "#How can we retrieve all indices of members of a given value (2)? Method 1\n",
    "a = [2, 3, 5, 2, 6, 5]\n",
    "b = []\n",
    "for i, ix in enumerate(a):\n",
    "    if ix == 2:\n",
    "        b.append(i)\n",
    "print(b)"
   ]
  },
  {
   "cell_type": "code",
   "execution_count": 49,
   "metadata": {},
   "outputs": [
    {
     "name": "stdout",
     "output_type": "stream",
     "text": [
      "[2, 7, 8]\n"
     ]
    }
   ],
   "source": [
    "#How can we retrieve all indices of members of a given value (2)? Method 2\n",
    "a = [4,3,2,1,5,4,3,2,2]\n",
    "b = [ix for ix, m in enumerate(a) if m == 2]\n",
    "print(b)"
   ]
  },
  {
   "cell_type": "code",
   "execution_count": 65,
   "metadata": {},
   "outputs": [
    {
     "name": "stdout",
     "output_type": "stream",
     "text": [
      "[1, 5]\n"
     ]
    }
   ],
   "source": [
    "#How to retrieve indices of all identical members from two lists?\n",
    "a = [2, 3, 5, 2, 6, 5]\n",
    "b = [4, 3, 2, 1, 5, 5]\n",
    "c = zip(a,b)\n",
    "d = []\n",
    "\n",
    "for i, (m,n) in enumerate(c):\n",
    "    if m == n:\n",
    "        d.append(i)\n",
    "\n",
    "print(list(d))"
   ]
  },
  {
   "cell_type": "code",
   "execution_count": null,
   "metadata": {},
   "outputs": [],
   "source": []
  }
 ],
 "metadata": {
  "kernelspec": {
   "display_name": "Python 3",
   "language": "python",
   "name": "python3"
  },
  "language_info": {
   "codemirror_mode": {
    "name": "ipython",
    "version": 3
   },
   "file_extension": ".py",
   "mimetype": "text/x-python",
   "name": "python",
   "nbconvert_exporter": "python",
   "pygments_lexer": "ipython3",
   "version": "3.7.4"
  }
 },
 "nbformat": 4,
 "nbformat_minor": 2
}
