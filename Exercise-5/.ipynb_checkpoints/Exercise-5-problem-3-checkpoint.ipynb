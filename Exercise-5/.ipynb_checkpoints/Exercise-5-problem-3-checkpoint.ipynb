{
 "cells": [
  {
   "cell_type": "markdown",
   "metadata": {
    "deletable": false,
    "editable": false,
    "nbgrader": {
     "cell_type": "markdown",
     "checksum": "861669d3aadf752ee237a135a2aca25e",
     "grade": false,
     "grade_id": "Intro_text",
     "locked": true,
     "schema_version": 3,
     "solution": false
    }
   },
   "source": [
    "## Problem 3 - Data analysis (*4 points*)\n",
    "\n",
    "In this problem we will explore our temperature data by comparing spring temperatures between Helsinki Kumpula and Rovaniemi. To do this we'll use some conditions to extract subsets of our data and then analyse these subsets using basic Pandas functions. Please perform the tasks below by writing your code into the codeblocks in each section.\n",
    "\n",
    "**Notice**: Closely follow the instructions! For example, you should be sure to use **exactly** the same variable names mentioned in the instructions because your answers will be automatically graded, and the tests that grade your answers rely on following the same formatting or variable naming as in the instructions.\n",
    "\n",
    "**Your score on this problem will be based on following criteria:**\n",
    "\n",
    "- Calculating the median temperatures for Helsinki Kumpula and Rovaniemi for the summer of 2017\n",
    "- Selecting temperatures for May and June 2017 in separate dataframes for each location\n",
    "- Printing out some summary values for each month (May, June) and location (Kumpula, Rovaniemi)\n",
    "- Including comments that explain what most lines in the code do\n",
    "- Answering a couple questions at the end of the problem\n",
    "- Uploading your notebook and data files to your GitHub repository for this week's exercise"
   ]
  },
  {
   "cell_type": "markdown",
   "metadata": {
    "deletable": false,
    "editable": false,
    "nbgrader": {
     "cell_type": "markdown",
     "checksum": "ff62ce9d296a1db67758cf613013863c",
     "grade": false,
     "grade_id": "cell-33c2d0518738c711",
     "locked": true,
     "schema_version": 3,
     "solution": false,
     "task": false
    }
   },
   "source": [
    "### Part 1 (*0 points*)\n",
    "\n",
    "First, you need to load the data from Problem 2.\n",
    "\n",
    "- Read in the csv files generated in Problem 2 to the variables `kumpula` and `rovaniemi`"
   ]
  },
  {
   "cell_type": "code",
   "execution_count": 2,
   "metadata": {
    "deletable": false,
    "nbgrader": {
     "cell_type": "code",
     "checksum": "1723c7d823f3a1f8433646f506eedd16",
     "grade": false,
     "grade_id": "read_data",
     "locked": false,
     "schema_version": 3,
     "solution": true
    }
   },
   "outputs": [
    {
     "name": "stdout",
     "output_type": "stream",
     "text": [
      "   Unnamed: 0   USAF  YR--MODAHRMN  TEMP  MAX  MIN  Celsius\n",
      "0        8770  29980  201705010000  37.0  NaN  NaN       18\n",
      "1        8771  29980  201705010100  37.0  NaN  NaN       18\n",
      "2        8772  29980  201705010200  37.0  NaN  NaN       18\n",
      "3        8773  29980  201705010300  37.0  NaN  NaN       18\n",
      "4        8774  29980  201705010400  39.0  NaN  NaN       18\n",
      "   Unnamed: 0   USAF  YR--MODAHRMN  TEMP  MAX  MIN  Celsius\n",
      "0           0  28450  201705010000  31.0  NaN  NaN       18\n",
      "1           1  28450  201705010020  30.0  NaN  NaN       18\n",
      "2           2  28450  201705010050  30.0  NaN  NaN       18\n",
      "3           3  28450  201705010100  31.0  NaN  NaN       18\n",
      "4           4  28450  201705010120  30.0  NaN  NaN       18\n"
     ]
    }
   ],
   "source": [
    "import pandas as pd\n",
    "import statistics as stat\n",
    "kumpula_data = \"data/Kumpula_temps_May_Aug_2017.csv\"\n",
    "rovaniemi_data = \"data/Rovaniemi_temps_May_Aug_2017.csv\"\n",
    "\n",
    "# REPLACE THE ERROR BELOW WITH YOUR OWN CODE\n",
    "kumpula = pd.read_csv(kumpula_data, sep=',', na_values=['*', '**', '***', '****', '*****', '******'])\n",
    "print(kumpula.head())\n",
    "\n",
    "rovaniemi = pd.read_csv(rovaniemi_data, sep=',', na_values=['*', '**', '***', '****', '*****', '******'])\n",
    "print(rovaniemi.head())"
   ]
  },
  {
   "cell_type": "markdown",
   "metadata": {},
   "source": [
    "### Part 2 (*1 point*)\n",
    "\n",
    "Next you can find some median temperature values for the period the data covers.\n",
    "\n",
    "- What was the median Celsius temperature during the observed period in:\n",
    "    - Helsinki Kumpula? (store the answer in a variable `kumpula_median`)\n",
    "    - Rovaniemi? (store the answer in a variable `rovaniemi_median`)"
   ]
  },
  {
   "cell_type": "code",
   "execution_count": 5,
   "metadata": {
    "deletable": false,
    "nbgrader": {
     "cell_type": "code",
     "checksum": "2c45192b5e5293cdbf30d4176b09bcf2",
     "grade": false,
     "grade_id": "median",
     "locked": false,
     "schema_version": 3,
     "solution": true
    }
   },
   "outputs": [],
   "source": [
    "kumpula_median = None\n",
    "rovaniemi_median = None\n",
    "\n",
    "# REPLACE THE ERROR BELOW WITH YOUR OWN CODE\n",
    "kumpula_median = stat.median(kumpula['Celsius'])\n",
    "\n",
    "rovaniemi_median = stat.median(rovaniemi['Celsius'])"
   ]
  },
  {
   "cell_type": "code",
   "execution_count": 6,
   "metadata": {
    "deletable": false,
    "editable": false,
    "nbgrader": {
     "cell_type": "code",
     "checksum": "f09698e35a34838c2b97221c7dba9226",
     "grade": true,
     "grade_id": "problem_3_median_test",
     "locked": true,
     "points": 1,
     "schema_version": 3,
     "solution": false
    }
   },
   "outputs": [
    {
     "name": "stdout",
     "output_type": "stream",
     "text": [
      "Kumpula median:  18.0\n",
      "Rovaniemi median:  18.0\n"
     ]
    }
   ],
   "source": [
    "# Prints the median temperatures\n",
    "print(\"Kumpula median: \", kumpula_median)\n",
    "print(\"Rovaniemi median: \", rovaniemi_median)\n"
   ]
  },
  {
   "cell_type": "markdown",
   "metadata": {
    "deletable": false,
    "editable": false,
    "nbgrader": {
     "cell_type": "markdown",
     "checksum": "72c55344ad098bb58a9f6c3647d37677",
     "grade": false,
     "grade_id": "cell-6eda08b036b421d9",
     "locked": true,
     "schema_version": 3,
     "solution": false,
     "task": false
    }
   },
   "source": [
    "### Part 3 (*2 points*)\n",
    "\n",
    "The median temperatures above consider data from the entire summer (May-Aug), hence the differences might not be so clear. Let's now find out the mean temperatures from May and June 2017 in Kumpula and Rovaniemi.\n",
    "\n",
    "- From the `kumpula` and `rovaniemi` DataFrames, select the rows where values of the `YR--MODAHRMN` column are from May 2017\n",
    "    - Assign these selected rows into the variables `kumpula_may` and `rovaniemi_may` (you can check the [hints](https://geo-python.github.io/site/lessons/L5/exercise-5.html) for help!)\n",
    "- Repeat the procedure for the month of June and assign those values into variables to `kumpula_june` and `rovaniemi_june`"
   ]
  },
  {
   "cell_type": "code",
   "execution_count": 12,
   "metadata": {},
   "outputs": [
    {
     "data": {
      "text/plain": [
       "dtype('int64')"
      ]
     },
     "execution_count": 12,
     "metadata": {},
     "output_type": "execute_result"
    }
   ],
   "source": [
    "kumpula['YR--MODAHRMN'].dtypes"
   ]
  },
  {
   "cell_type": "code",
   "execution_count": 14,
   "metadata": {
    "deletable": false,
    "nbgrader": {
     "cell_type": "code",
     "checksum": "bb09c4bf4e07e674182a5cbf62c9d5be",
     "grade": false,
     "grade_id": "may",
     "locked": false,
     "schema_version": 3,
     "solution": true
    }
   },
   "outputs": [],
   "source": [
    "# Select the subset of the Kumpula and Rovaniemi data for the 5th and 6th month\n",
    "# REPLACE THE ERROR BELOW WITH YOUR OWN CODE\n",
    "kumpula_may = kumpula.loc[(kumpula['YR--MODAHRMN'] >= 201705010000) &  (kumpula['YR--MODAHRMN'] < 201706010000)]\n",
    "\n",
    "rovaniemi_may = rovaniemi.loc[(rovaniemi['YR--MODAHRMN'] >= 201705010000) &  (rovaniemi['YR--MODAHRMN'] < 201706010000)]\n",
    "\n",
    "kumpula_june = kumpula.loc[(kumpula['YR--MODAHRMN'] >= 201706010000) &  (kumpula['YR--MODAHRMN'] < 201707010000)]\n",
    "\n",
    "rovaniemi_june = rovaniemi.loc[(rovaniemi['YR--MODAHRMN'] >= 201706010000) &  (rovaniemi['YR--MODAHRMN'] < 201707010000)]"
   ]
  },
  {
   "cell_type": "code",
   "execution_count": 16,
   "metadata": {
    "deletable": false,
    "editable": false,
    "nbgrader": {
     "cell_type": "code",
     "checksum": "b7f400a629298411f3a377acc000739d",
     "grade": true,
     "grade_id": "problem_2_May_and_June_test1",
     "locked": true,
     "points": 0.5,
     "schema_version": 3,
     "solution": false
    }
   },
   "outputs": [
    {
     "name": "stdout",
     "output_type": "stream",
     "text": [
      "Kumpula temperatures in May\n",
      "    Unnamed: 0   USAF  YR--MODAHRMN  TEMP  MAX  MIN  Celsius\n",
      "0        8770  29980  201705010000  37.0  NaN  NaN       18\n",
      "1        8771  29980  201705010100  37.0  NaN  NaN       18\n",
      "2        8772  29980  201705010200  37.0  NaN  NaN       18\n",
      "3        8773  29980  201705010300  37.0  NaN  NaN       18\n",
      "4        8774  29980  201705010400  39.0  NaN  NaN       18\n",
      "Rovaniemi temperatures in June\n",
      ":        Unnamed: 0   USAF  YR--MODAHRMN  TEMP  MAX  MIN  Celsius\n",
      "2222        2222  28450  201706010000  32.0  NaN  NaN       18\n",
      "2223        2223  28450  201706010020  30.0  NaN  NaN       18\n",
      "2224        2224  28450  201706010050  30.0  NaN  NaN       18\n",
      "2225        2225  28450  201706010100  31.0  NaN  NaN       18\n",
      "2226        2226  28450  201706010120  30.0  NaN  NaN       18\n"
     ]
    }
   ],
   "source": [
    "# Prints some of the selected temperature data\n",
    "print(\"Kumpula temperatures in May\\n\", kumpula_may.head())\n",
    "print(\"Rovaniemi temperatures in June\\n: \", rovaniemi_june.head())\n"
   ]
  },
  {
   "cell_type": "code",
   "execution_count": 17,
   "metadata": {
    "deletable": false,
    "editable": false,
    "nbgrader": {
     "cell_type": "code",
     "checksum": "24b61f90191790d229482270bca32edf",
     "grade": true,
     "grade_id": "problem_3_May_and_June_test2",
     "locked": true,
     "points": 0.5,
     "schema_version": 3,
     "solution": false
    }
   },
   "outputs": [
    {
     "name": "stdout",
     "output_type": "stream",
     "text": [
      "(714, 7)\n"
     ]
    }
   ],
   "source": [
    "# Check that the shape of kumpula_june is correct\n",
    "print(kumpula_june.shape)"
   ]
  },
  {
   "cell_type": "code",
   "execution_count": 18,
   "metadata": {
    "deletable": false,
    "editable": false,
    "nbgrader": {
     "cell_type": "code",
     "checksum": "ba5ff9ea42a21bf18dfca50f1357bbd8",
     "grade": true,
     "grade_id": "problem_3_May_and_June_test3",
     "locked": true,
     "points": 0.5,
     "schema_version": 3,
     "solution": false
    }
   },
   "outputs": [
    {
     "name": "stdout",
     "output_type": "stream",
     "text": [
      "(2222, 7)\n"
     ]
    }
   ],
   "source": [
    "# Check that the shape of rovaniemi_may is correct\n",
    "print(rovaniemi_may.shape)"
   ]
  },
  {
   "cell_type": "code",
   "execution_count": 19,
   "metadata": {
    "deletable": false,
    "editable": false,
    "nbgrader": {
     "cell_type": "code",
     "checksum": "a460e603257d94c07558e23a54d64c1d",
     "grade": true,
     "grade_id": "problem_3_May_and_June_test4",
     "locked": true,
     "points": 0.5,
     "schema_version": 3,
     "solution": false
    }
   },
   "outputs": [
    {
     "name": "stdout",
     "output_type": "stream",
     "text": [
      "(2127, 7)\n"
     ]
    }
   ],
   "source": [
    "# Check that the shape of rovaniemi_june is correct\n",
    "print(rovaniemi_june.shape)"
   ]
  },
  {
   "cell_type": "markdown",
   "metadata": {
    "deletable": false,
    "editable": false,
    "nbgrader": {
     "cell_type": "markdown",
     "checksum": "1cf68fffc5eafa68e70f9369a26c21a5",
     "grade": false,
     "grade_id": "cell-5d735e872f16ccd5",
     "locked": true,
     "schema_version": 3,
     "solution": false,
     "task": false
    }
   },
   "source": [
    "### Part 4 (*1 point*)\n",
    "\n",
    "Now you can make your temperature data from both locations and months easier to compare by printing out a few useful values.\n",
    "\n",
    "- Use the `print()` function to show the mean, min and max Celsius temperatures for both places in May and June using the new subset dataframes (`kumpula_may`, `rovaniemi_may`, `kumpula_june`, and `rovaniemi_june`)."
   ]
  },
  {
   "cell_type": "code",
   "execution_count": 26,
   "metadata": {
    "deletable": false,
    "nbgrader": {
     "cell_type": "code",
     "checksum": "fca67f9e5db701779c77dcb609a85ddf",
     "grade": true,
     "grade_id": "May_and_June_stats",
     "locked": false,
     "points": 1,
     "schema_version": 3,
     "solution": true
    }
   },
   "outputs": [
    {
     "name": "stdout",
     "output_type": "stream",
     "text": [
      "Kumpula temperatures in May\n",
      " count    741.0\n",
      "mean      18.0\n",
      "std        0.0\n",
      "min       18.0\n",
      "25%       18.0\n",
      "50%       18.0\n",
      "75%       18.0\n",
      "max       18.0\n",
      "Name: Celsius, dtype: float64 \n",
      "\n",
      "Rovaniemi temperatures in May\n",
      " count    2222.0\n",
      "mean       18.0\n",
      "std         0.0\n",
      "min        18.0\n",
      "25%        18.0\n",
      "50%        18.0\n",
      "75%        18.0\n",
      "max        18.0\n",
      "Name: Celsius, dtype: float64 \n",
      "\n",
      "Kumpula temperatures in June\n",
      " count    714.0\n",
      "mean      18.0\n",
      "std        0.0\n",
      "min       18.0\n",
      "25%       18.0\n",
      "50%       18.0\n",
      "75%       18.0\n",
      "max       18.0\n",
      "Name: Celsius, dtype: float64 \n",
      "\n",
      "Rovaniemi temperatures in June\n",
      " count    2127.0\n",
      "mean       18.0\n",
      "std         0.0\n",
      "min        18.0\n",
      "25%        18.0\n",
      "50%        18.0\n",
      "75%        18.0\n",
      "max        18.0\n",
      "Name: Celsius, dtype: float64 \n",
      "\n"
     ]
    }
   ],
   "source": [
    "# REPLACE THE ERROR BELOW WITH YOUR OWN CODE\n",
    "print(\"Kumpula temperatures in May\\n\", kumpula_may['Celsius'].describe(), \"\\n\")\n",
    "print(\"Rovaniemi temperatures in May\\n\", rovaniemi_may['Celsius'].describe(), \"\\n\")\n",
    "print(\"Kumpula temperatures in June\\n\", kumpula_june['Celsius'].describe(), \"\\n\")\n",
    "print(\"Rovaniemi temperatures in June\\n\", rovaniemi_june['Celsius'].describe(), \"\\n\")"
   ]
  },
  {
   "cell_type": "markdown",
   "metadata": {
    "deletable": false,
    "editable": false,
    "nbgrader": {
     "cell_type": "markdown",
     "checksum": "42427a2907c6dad46640571ae4bafa8a",
     "grade": false,
     "grade_id": "comments",
     "locked": true,
     "schema_version": 3,
     "solution": false
    }
   },
   "source": [
    "### Problem 3 summary\n",
    "\n",
    "In the [Exercise 5 summary notebook](Exercise-5-summary.ipynb) you can find a few additional points to consider and two final questions for Problem 3. Please answer those question in [that notebook](Exercise-5-summary.ipynb)."
   ]
  },
  {
   "cell_type": "markdown",
   "metadata": {
    "collapsed": true,
    "deletable": false,
    "editable": false,
    "nbgrader": {
     "cell_type": "markdown",
     "checksum": "0e5f52b74f4ffaea57ca77ace2732647",
     "grade": false,
     "grade_id": "text",
     "locked": true,
     "schema_version": 3,
     "solution": false
    }
   },
   "source": [
    "### On to Problem 4 (*optional*)\n",
    "\n",
    "Now you can continue to the *optional* [Problem 4: Data analysis](Exercise-5-problem-4.ipynb)"
   ]
  }
 ],
 "metadata": {
  "anaconda-cloud": {},
  "kernelspec": {
   "display_name": "Python 3",
   "language": "python",
   "name": "python3"
  },
  "language_info": {
   "codemirror_mode": {
    "name": "ipython",
    "version": 3
   },
   "file_extension": ".py",
   "mimetype": "text/x-python",
   "name": "python",
   "nbconvert_exporter": "python",
   "pygments_lexer": "ipython3",
   "version": "3.7.3"
  }
 },
 "nbformat": 4,
 "nbformat_minor": 2
}
