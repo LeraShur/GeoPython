{
 "cells": [
  {
   "cell_type": "markdown",
   "metadata": {
    "deletable": false,
    "editable": false,
    "nbgrader": {
     "cell_type": "markdown",
     "checksum": "3b662cdee17ba1b411a878ba73f12371",
     "grade": false,
     "grade_id": "cell-8f87d3f057af49f1",
     "locked": true,
     "schema_version": 3,
     "solution": false,
     "task": false
    }
   },
   "source": [
    "## Problem 4 (*optional*) - Parsing daily temperatures\n",
    "\n",
    "**This is an optional task for more advanced students who want more practice.**\n",
    "\n",
    "In this problem, the aim is to aggregate the hourly temperature data for Helsinki Kumpula and Rovaniemi weather stations to a daily level. Currently, there are 3 measurements per hour in the data.\n",
    "\n",
    "This problem is more challenging as we provide only minimal instructions for completing the given tasks.\n",
    "\n",
    "### What to do\n",
    "\n",
    "- Create a new DataFrame where you have calculated mean, max and min Celsius temperatures for each day separately using the hourly values from Rovaniemi and Helsinki Kumpula\n",
    "\n",
    "Don't forget to:\n",
    "\n",
    "- Include useful comments in your code\n",
    "- Push your solution to GitHub\n",
    "\n",
    "### Hint\n",
    "\n",
    "You can find help from the [Pandas Official documentation](https://pandas.pydata.org/pandas-docs/stable/) and Google. If you think you can handle this but don't know how to proceed, ask for tips in Slack!"
   ]
  },
  {
   "cell_type": "code",
   "execution_count": 19,
   "metadata": {
    "deletable": false,
    "nbgrader": {
     "cell_type": "code",
     "checksum": "bc2c0cbdbd05f494393e88f2ee59753e",
     "grade": true,
     "grade_id": "cell-978d5674f4fa37fc",
     "locked": false,
     "points": 0,
     "schema_version": 3,
     "solution": true,
     "task": false
    },
    "scrolled": true
   },
   "outputs": [
    {
     "name": "stdout",
     "output_type": "stream",
     "text": [
      "   Unnamed: 0   USAF  YR--MODAHRMN  TEMP  MAX  MIN  Celsius\n",
      "0        8770  29980  201705010000  37.0  NaN  NaN       18\n",
      "1        8771  29980  201705010100  37.0  NaN  NaN       18\n",
      "2        8772  29980  201705010200  37.0  NaN  NaN       18\n",
      "3        8773  29980  201705010300  37.0  NaN  NaN       18\n",
      "4        8774  29980  201705010400  39.0  NaN  NaN       18 \n",
      "\n",
      "   Unnamed: 0   USAF  YR--MODAHRMN  TEMP  MAX  MIN  Celsius\n",
      "0           0  28450  201705010000  31.0  NaN  NaN       18\n",
      "1           1  28450  201705010020  30.0  NaN  NaN       18\n",
      "2           2  28450  201705010050  30.0  NaN  NaN       18\n",
      "3           3  28450  201705010100  31.0  NaN  NaN       18\n",
      "4           4  28450  201705010120  30.0  NaN  NaN       18\n"
     ]
    }
   ],
   "source": [
    "# Import Pandas and read in the data from csv\n",
    "import pandas as pd\n",
    "import numpy as np\n",
    "kumpula_temps = \"data/Kumpula_temps_May_Aug_2017.csv\"\n",
    "rovaniemi_temps = \"data/Rovaniemi_temps_May_Aug_2017.csv\"\n",
    "\n",
    "kumpula = pd.read_csv(kumpula_temps, sep=',', na_values=['*', '**', '***', '****', '*****', '******'])\n",
    "print(kumpula.head(), \"\\n\")\n",
    "\n",
    "rovaniemi = pd.read_csv(rovaniemi_temps, sep=',', na_values=['*', '**', '***', '****', '*****', '******'])\n",
    "print(rovaniemi.head())"
   ]
  },
  {
   "cell_type": "code",
   "execution_count": null,
   "metadata": {},
   "outputs": [],
   "source": [
    "# DataFrames for the results\n",
    "kumpula_temp = ['MEAN', 'MAX', 'MIN']\n",
    "rovaniemi_temp = ['MEAN', 'MAX', 'MIN']"
   ]
  },
  {
   "cell_type": "code",
   "execution_count": null,
   "metadata": {},
   "outputs": [],
   "source": [
    "def stat_description(DataFrame):\n",
    "    for row in DataFrame['YR--MODAHRMN']:\n",
    "        \n",
    "    "
   ]
  },
  {
   "cell_type": "code",
   "execution_count": null,
   "metadata": {},
   "outputs": [],
   "source": []
  }
 ],
 "metadata": {
  "anaconda-cloud": {},
  "kernelspec": {
   "display_name": "Python 3",
   "language": "python",
   "name": "python3"
  },
  "language_info": {
   "codemirror_mode": {
    "name": "ipython",
    "version": 3
   },
   "file_extension": ".py",
   "mimetype": "text/x-python",
   "name": "python",
   "nbconvert_exporter": "python",
   "pygments_lexer": "ipython3",
   "version": "3.7.3"
  }
 },
 "nbformat": 4,
 "nbformat_minor": 2
}
