{
 "cells": [
  {
   "cell_type": "markdown",
   "metadata": {
    "deletable": false,
    "editable": false,
    "nbgrader": {
     "cell_type": "markdown",
     "checksum": "3b662cdee17ba1b411a878ba73f12371",
     "grade": false,
     "grade_id": "cell-8f87d3f057af49f1",
     "locked": true,
     "schema_version": 3,
     "solution": false,
     "task": false
    }
   },
   "source": [
    "## Problem 4 (*optional*) - Parsing daily temperatures\n",
    "\n",
    "**This is an optional task for more advanced students who want more practice.**\n",
    "\n",
    "In this problem, the aim is to aggregate the hourly temperature data for Helsinki Kumpula and Rovaniemi weather stations to a daily level. Currently, there are 3 measurements per hour in the data.\n",
    "\n",
    "This problem is more challenging as we provide only minimal instructions for completing the given tasks.\n",
    "\n",
    "### What to do\n",
    "\n",
    "- Create a new DataFrame where you have calculated mean, max and min Celsius temperatures for each day separately using the hourly values from Rovaniemi and Helsinki Kumpula\n",
    "\n",
    "Don't forget to:\n",
    "\n",
    "- Include useful comments in your code\n",
    "- Push your solution to GitHub\n",
    "\n",
    "### Hint\n",
    "\n",
    "You can find help from the [Pandas Official documentation](https://pandas.pydata.org/pandas-docs/stable/) and Google. If you think you can handle this but don't know how to proceed, ask for tips in Slack!"
   ]
  },
  {
   "cell_type": "code",
   "execution_count": 16,
   "metadata": {
    "deletable": false,
    "nbgrader": {
     "cell_type": "code",
     "checksum": "bc2c0cbdbd05f494393e88f2ee59753e",
     "grade": true,
     "grade_id": "cell-978d5674f4fa37fc",
     "locked": false,
     "points": 0,
     "schema_version": 3,
     "solution": true,
     "task": false
    },
    "scrolled": true
   },
   "outputs": [
    {
     "name": "stdout",
     "output_type": "stream",
     "text": [
      "   Unnamed: 0   USAF  YR--MODAHRMN  TEMP  MAX  MIN  Celsius\n",
      "0        8770  29980  201705010000  37.0  NaN  NaN      3.0\n",
      "1        8771  29980  201705010100  37.0  NaN  NaN      3.0\n",
      "2        8772  29980  201705010200  37.0  NaN  NaN      3.0\n",
      "3        8773  29980  201705010300  37.0  NaN  NaN      3.0\n",
      "4        8774  29980  201705010400  39.0  NaN  NaN      4.0 \n",
      "\n",
      "   Unnamed: 0   USAF  YR--MODAHRMN  TEMP  MAX  MIN  Celsius\n",
      "0           0  28450  201705010000  31.0  NaN  NaN     -1.0\n",
      "1           1  28450  201705010020  30.0  NaN  NaN     -1.0\n",
      "2           2  28450  201705010050  30.0  NaN  NaN     -1.0\n",
      "3           3  28450  201705010100  31.0  NaN  NaN     -1.0\n",
      "4           4  28450  201705010120  30.0  NaN  NaN     -1.0\n"
     ]
    }
   ],
   "source": [
    "# Import Pandas and read in the data from csv\n",
    "import pandas as pd\n",
    "import numpy as np\n",
    "kumpula_temps = \"data/Kumpula_temps_May_Aug_2017.csv\"\n",
    "rovaniemi_temps = \"data/Rovaniemi_temps_May_Aug_2017.csv\"\n",
    "\n",
    "kumpula = pd.read_csv(kumpula_temps, sep=',', na_values=['*', '**', '***', '****', '*****', '******'])\n",
    "print(kumpula.head(), \"\\n\")\n",
    "\n",
    "rovaniemi = pd.read_csv(rovaniemi_temps, sep=',', na_values=['*', '**', '***', '****', '*****', '******'])\n",
    "print(rovaniemi.head())"
   ]
  },
  {
   "cell_type": "code",
   "execution_count": 22,
   "metadata": {},
   "outputs": [
    {
     "name": "stdout",
     "output_type": "stream",
     "text": [
      "   Unnamed: 0   USAF  YR--MODAHRMN  TEMP   MAX  MIN  Celsius       MEAN\n",
      "0        8770  29980  201705010000  37.0  25.0 -2.0      3.0  13.926129\n",
      "1        8771  29980  201705010100  37.0  25.0 -2.0      3.0  13.926129\n",
      "2        8772  29980  201705010200  37.0  25.0 -2.0      3.0  13.926129\n",
      "3        8773  29980  201705010300  37.0  25.0 -2.0      3.0  13.926129\n",
      "4        8774  29980  201705010400  39.0  25.0 -2.0      4.0  13.926129 \n",
      "\n",
      "   Unnamed: 0   USAF  YR--MODAHRMN  TEMP   MAX  MIN  Celsius       MEAN\n",
      "0           0  28450  201705010000  31.0  24.0 -7.0     -1.0  10.347777\n",
      "1           1  28450  201705010020  30.0  24.0 -7.0     -1.0  10.347777\n",
      "2           2  28450  201705010050  30.0  24.0 -7.0     -1.0  10.347777\n",
      "3           3  28450  201705010100  31.0  24.0 -7.0     -1.0  10.347777\n",
      "4           4  28450  201705010120  30.0  24.0 -7.0     -1.0  10.347777 \n",
      "\n"
     ]
    }
   ],
   "source": [
    "#Calculating MIN, MAX, MEAN for both datasets\n",
    "pd.set_option('display.max_columns', None)\n",
    "\n",
    "kumpula['MEAN'] = kumpula['Celsius'].mean()\n",
    "kumpula['MAX'] = max(kumpula['Celsius'])\n",
    "kumpula['MIN'] =  min(kumpula['Celsius'])\n",
    "print(kumpula.head(), \"\\n\")\n",
    "\n",
    "rovaniemi['MEAN'] = rovaniemi['Celsius'].mean()\n",
    "rovaniemi['MAX'] = max(rovaniemi['Celsius'])\n",
    "rovaniemi['MIN'] =  min(rovaniemi['Celsius'])\n",
    "print(rovaniemi.head(), \"\\n\")"
   ]
  },
  {
   "cell_type": "code",
   "execution_count": 125,
   "metadata": {},
   "outputs": [
    {
     "name": "stdout",
     "output_type": "stream",
     "text": [
      "   YR--MODAHRMN  TIME  TEMP   MAX  MIN       MEAN\n",
      "0  201705010000   NaN  37.0  25.0 -2.0  13.926129\n",
      "1  201705010100   NaN  37.0  25.0 -2.0  13.926129\n",
      "2  201705010200   NaN  37.0  25.0 -2.0  13.926129\n",
      "3  201705010300   NaN  37.0  25.0 -2.0  13.926129\n",
      "4  201705010400   NaN  39.0  25.0 -2.0  13.926129 \n",
      "\n",
      "   YR--MODAHRMN  TIME  TEMP   MAX  MIN       MEAN\n",
      "0  201705010000   NaN  31.0  24.0 -7.0  10.347777\n",
      "1  201705010020   NaN  30.0  24.0 -7.0  10.347777\n",
      "2  201705010050   NaN  30.0  24.0 -7.0  10.347777\n",
      "3  201705010100   NaN  31.0  24.0 -7.0  10.347777\n",
      "4  201705010120   NaN  30.0  24.0 -7.0  10.347777 \n",
      "\n"
     ]
    }
   ],
   "source": [
    "# DataFrames for the results\n",
    "kumpula_temp = pd.DataFrame(data=kumpula, columns=['YR--MODAHRMN', 'TIME', 'TEMP', 'MAX', 'MIN', 'MEAN'])\n",
    "print(kumpula_temp.head(), \"\\n\")\n",
    "\n",
    "rovaniemi_temp = pd.DataFrame(data=rovaniemi, columns=['YR--MODAHRMN', 'TIME', 'TEMP', 'MAX', 'MIN', 'MEAN'])\n",
    "print(rovaniemi_temp.head(), \"\\n\")"
   ]
  },
  {
   "cell_type": "code",
   "execution_count": 126,
   "metadata": {},
   "outputs": [
    {
     "name": "stdout",
     "output_type": "stream",
     "text": [
      "                      YR--MODAHRMN  TIME  TEMP   MAX  MIN       MEAN\n",
      "0    1970-01-01 00:03:21.705010000   NaN  37.0  25.0 -2.0  13.926129\n",
      "1    1970-01-01 00:03:21.705010100   NaN  37.0  25.0 -2.0  13.926129\n",
      "2    1970-01-01 00:03:21.705010200   NaN  37.0  25.0 -2.0  13.926129\n",
      "3    1970-01-01 00:03:21.705010300   NaN  37.0  25.0 -2.0  13.926129\n",
      "4    1970-01-01 00:03:21.705010400   NaN  39.0  25.0 -2.0  13.926129\n",
      "...                            ...   ...   ...   ...  ...        ...\n",
      "2919 1970-01-01 00:03:21.708311900   NaN  64.0  25.0 -2.0  13.926129\n",
      "2920 1970-01-01 00:03:21.708312000   NaN  64.0  25.0 -2.0  13.926129\n",
      "2921 1970-01-01 00:03:21.708312100   NaN  64.0  25.0 -2.0  13.926129\n",
      "2922 1970-01-01 00:03:21.708312200   NaN  64.0  25.0 -2.0  13.926129\n",
      "2923 1970-01-01 00:03:21.708312300   NaN  64.0  25.0 -2.0  13.926129\n",
      "\n",
      "[2924 rows x 6 columns] \n",
      "\n"
     ]
    }
   ],
   "source": [
    "pd.set_option('display.max_columns', None)\n",
    "#Convert to timestampts\n",
    "kumpula_temp['YR--MODAHRMN'] = pd.to_datetime(kumpula_temp['YR--MODAHRMN'])\n",
    "\n",
    "#put the timestamp part of the datetime into a separate column\n",
    "#kumpula_temp['TIME'] = kumpula_temp['YR--MODAHRMN'].dt.time\n",
    "\n",
    "kumpula_df = kumpula_temp.groupby(kumpula_temp[\"YR--MODAHRMN\"].dt.time)[\"MEAN\"].mean()\n",
    "\n",
    "print(kumpula_temp, \"\\n\")"
   ]
  },
  {
   "cell_type": "code",
   "execution_count": 127,
   "metadata": {},
   "outputs": [
    {
     "name": "stdout",
     "output_type": "stream",
     "text": [
      "                      YR--MODAHRMN  TIME  TEMP   MAX  MIN       MEAN\n",
      "0    1970-01-01 00:03:21.705010000   NaN  31.0  24.0 -7.0  10.347777\n",
      "1    1970-01-01 00:03:21.705010020   NaN  30.0  24.0 -7.0  10.347777\n",
      "2    1970-01-01 00:03:21.705010050   NaN  30.0  24.0 -7.0  10.347777\n",
      "3    1970-01-01 00:03:21.705010100   NaN  31.0  24.0 -7.0  10.347777\n",
      "4    1970-01-01 00:03:21.705010120   NaN  30.0  24.0 -7.0  10.347777\n",
      "...                            ...   ...   ...   ...  ...        ...\n",
      "8765 1970-01-01 00:03:21.708312220   NaN  46.0  24.0 -7.0  10.347777\n",
      "8766 1970-01-01 00:03:21.708312250   NaN  46.0  24.0 -7.0  10.347777\n",
      "8767 1970-01-01 00:03:21.708312300   NaN  48.0  24.0 -7.0  10.347777\n",
      "8768 1970-01-01 00:03:21.708312320   NaN  46.0  24.0 -7.0  10.347777\n",
      "8769 1970-01-01 00:03:21.708312350   NaN  48.0  24.0 -7.0  10.347777\n",
      "\n",
      "[8770 rows x 6 columns] \n",
      "\n"
     ]
    }
   ],
   "source": [
    "pd.set_option('display.max_columns', None)\n",
    "#Convert to timestampts\n",
    "rovaniemi_temp['YR--MODAHRMN'] = pd.to_datetime(rovaniemi_temp['YR--MODAHRMN'])\n",
    "\n",
    "#put the timestamp part of the datetime into a separate column\n",
    "#kumpula_temp['TIME'] = kumpula_temp['YR--MODAHRMN'].dt.time\n",
    "\n",
    "rovaniemi_df = rovaniemi_temp.groupby(rovaniemi_temp[\"YR--MODAHRMN\"].dt.time)[\"MEAN\"].mean()\n",
    "\n",
    "print(rovaniemi_temp, \"\\n\")"
   ]
  }
 ],
 "metadata": {
  "anaconda-cloud": {},
  "kernelspec": {
   "display_name": "Python 3",
   "language": "python",
   "name": "python3"
  },
  "language_info": {
   "codemirror_mode": {
    "name": "ipython",
    "version": 3
   },
   "file_extension": ".py",
   "mimetype": "text/x-python",
   "name": "python",
   "nbconvert_exporter": "python",
   "pygments_lexer": "ipython3",
   "version": "3.7.4"
  }
 },
 "nbformat": 4,
 "nbformat_minor": 2
}
