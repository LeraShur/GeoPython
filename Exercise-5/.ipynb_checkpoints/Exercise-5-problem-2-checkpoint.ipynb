{
 "cells": [
  {
   "cell_type": "markdown",
   "metadata": {
    "deletable": false,
    "editable": false,
    "nbgrader": {
     "cell_type": "markdown",
     "checksum": "b9f412b670adf33b58a10ab713016991",
     "grade": false,
     "grade_id": "cell-0e5a9bb9ec9e7ac9",
     "locked": true,
     "schema_version": 3,
     "solution": false,
     "task": false
    }
   },
   "source": [
    "## Problem 2 - Data manipulation and selection (*9 points*)\n",
    "\n",
    "In this problem you will clean the data from our data file by removing no-data values, convert temperature values in Fahrenheit to Celsius, and split the data into separate datasets using the weather station identification code. We will start this problem by cleaning and converting our temperature data. Please perform the tasks below by writing your code into the codeblocks in each section.\n",
    "\n",
    "**Notice**: Closely follow the instructions! For example, you should be sure to use **exactly** the same variable names mentioned in the instructions because your answers will be automatically graded, and the tests that grade your answers rely on following the same formatting or variable naming as in the instructions.\n",
    "\n",
    "**Your score on this problem will be based on following criteria:**\n",
    "\n",
    "- Creating a new dataframe called `selected` that contains select columns from the data file\n",
    "- Cleaning the new dataframe by removing no-data values\n",
    "- Creating a new column for temperatures converted from Fahrenheit to Celsius\n",
    "- Dividing the data into separate dataframes for the Helsinki Kumpula and Rovaniemi stations\n",
    "- Saving the new dataframes to CSV files\n",
    "- Including comments that explain what most lines in the code do\n",
    "- Answering a couple questions at the end of the problem\n",
    "- Uploading your notebook and data files to your GitHub repository for this week's exercise  "
   ]
  },
  {
   "cell_type": "markdown",
   "metadata": {
    "deletable": false,
    "editable": false,
    "nbgrader": {
     "cell_type": "markdown",
     "checksum": "2459548893b45c9bd9e92f4ae38b9a8e",
     "grade": false,
     "grade_id": "cell-a49b67e59c4796cb",
     "locked": true,
     "schema_version": 3,
     "solution": false,
     "task": false
    }
   },
   "source": [
    "### Part 1 (*0 points*)\n",
    "\n",
    "The first step for this problem is to again read the data file.\n",
    "\n",
    "- Use Pandas to read the [data/6153237444115dat.csv](data/6153237444115dat.csv) file into the varaible `data` (you can copy your code from Problem 1)."
   ]
  },
  {
   "cell_type": "code",
   "execution_count": 19,
   "metadata": {
    "deletable": false,
    "nbgrader": {
     "cell_type": "code",
     "checksum": "dd278ed73c387e1f8539d884d01813d1",
     "grade": false,
     "grade_id": "read_csv",
     "locked": false,
     "schema_version": 3,
     "solution": true
    }
   },
   "outputs": [
    {
     "data": {
      "text/html": [
       "<div>\n",
       "<style scoped>\n",
       "    .dataframe tbody tr th:only-of-type {\n",
       "        vertical-align: middle;\n",
       "    }\n",
       "\n",
       "    .dataframe tbody tr th {\n",
       "        vertical-align: top;\n",
       "    }\n",
       "\n",
       "    .dataframe thead th {\n",
       "        text-align: right;\n",
       "    }\n",
       "</style>\n",
       "<table border=\"1\" class=\"dataframe\">\n",
       "  <thead>\n",
       "    <tr style=\"text-align: right;\">\n",
       "      <th></th>\n",
       "      <th>USAF</th>\n",
       "      <th>WBAN</th>\n",
       "      <th>YR--MODAHRMN</th>\n",
       "      <th>DIR</th>\n",
       "      <th>SPD</th>\n",
       "      <th>GUS</th>\n",
       "      <th>CLG</th>\n",
       "      <th>SKC</th>\n",
       "      <th>L</th>\n",
       "      <th>M</th>\n",
       "      <th>H</th>\n",
       "      <th>VSB</th>\n",
       "      <th>MW</th>\n",
       "      <th>MW.1</th>\n",
       "      <th>MW.2</th>\n",
       "      <th>MW.3</th>\n",
       "      <th>AW</th>\n",
       "      <th>AW.1</th>\n",
       "      <th>AW.2</th>\n",
       "      <th>AW.3</th>\n",
       "      <th>W</th>\n",
       "      <th>TEMP</th>\n",
       "      <th>DEWP</th>\n",
       "      <th>SLP</th>\n",
       "      <th>ALT</th>\n",
       "      <th>STP</th>\n",
       "      <th>MAX</th>\n",
       "      <th>MIN</th>\n",
       "      <th>PCP01</th>\n",
       "      <th>PCP06</th>\n",
       "      <th>PCP24</th>\n",
       "      <th>PCPXX</th>\n",
       "      <th>SD</th>\n",
       "    </tr>\n",
       "  </thead>\n",
       "  <tbody>\n",
       "    <tr>\n",
       "      <td>0</td>\n",
       "      <td>28450</td>\n",
       "      <td>99999</td>\n",
       "      <td>201705010000</td>\n",
       "      <td>174.0</td>\n",
       "      <td>10.0</td>\n",
       "      <td>14.0</td>\n",
       "      <td>NaN</td>\n",
       "      <td>NaN</td>\n",
       "      <td>NaN</td>\n",
       "      <td>NaN</td>\n",
       "      <td>NaN</td>\n",
       "      <td>2.2</td>\n",
       "      <td>NaN</td>\n",
       "      <td>NaN</td>\n",
       "      <td>NaN</td>\n",
       "      <td>NaN</td>\n",
       "      <td>67.0</td>\n",
       "      <td>NaN</td>\n",
       "      <td>NaN</td>\n",
       "      <td>NaN</td>\n",
       "      <td>8.0</td>\n",
       "      <td>31.0</td>\n",
       "      <td>31.0</td>\n",
       "      <td>1009.2</td>\n",
       "      <td>NaN</td>\n",
       "      <td>984.1</td>\n",
       "      <td>NaN</td>\n",
       "      <td>NaN</td>\n",
       "      <td>NaN</td>\n",
       "      <td>NaN</td>\n",
       "      <td>NaN</td>\n",
       "      <td>NaN</td>\n",
       "      <td>35.0</td>\n",
       "    </tr>\n",
       "    <tr>\n",
       "      <td>1</td>\n",
       "      <td>28450</td>\n",
       "      <td>99999</td>\n",
       "      <td>201705010020</td>\n",
       "      <td>180.0</td>\n",
       "      <td>10.0</td>\n",
       "      <td>NaN</td>\n",
       "      <td>4.0</td>\n",
       "      <td>NaN</td>\n",
       "      <td>NaN</td>\n",
       "      <td>NaN</td>\n",
       "      <td>NaN</td>\n",
       "      <td>2.9</td>\n",
       "      <td>NaN</td>\n",
       "      <td>NaN</td>\n",
       "      <td>NaN</td>\n",
       "      <td>NaN</td>\n",
       "      <td>10.0</td>\n",
       "      <td>NaN</td>\n",
       "      <td>NaN</td>\n",
       "      <td>NaN</td>\n",
       "      <td>NaN</td>\n",
       "      <td>30.0</td>\n",
       "      <td>30.0</td>\n",
       "      <td>NaN</td>\n",
       "      <td>29.74</td>\n",
       "      <td>NaN</td>\n",
       "      <td>NaN</td>\n",
       "      <td>NaN</td>\n",
       "      <td>NaN</td>\n",
       "      <td>NaN</td>\n",
       "      <td>NaN</td>\n",
       "      <td>NaN</td>\n",
       "      <td>NaN</td>\n",
       "    </tr>\n",
       "    <tr>\n",
       "      <td>2</td>\n",
       "      <td>28450</td>\n",
       "      <td>99999</td>\n",
       "      <td>201705010050</td>\n",
       "      <td>190.0</td>\n",
       "      <td>10.0</td>\n",
       "      <td>NaN</td>\n",
       "      <td>4.0</td>\n",
       "      <td>NaN</td>\n",
       "      <td>NaN</td>\n",
       "      <td>NaN</td>\n",
       "      <td>NaN</td>\n",
       "      <td>2.1</td>\n",
       "      <td>NaN</td>\n",
       "      <td>NaN</td>\n",
       "      <td>NaN</td>\n",
       "      <td>NaN</td>\n",
       "      <td>10.0</td>\n",
       "      <td>NaN</td>\n",
       "      <td>NaN</td>\n",
       "      <td>NaN</td>\n",
       "      <td>NaN</td>\n",
       "      <td>30.0</td>\n",
       "      <td>30.0</td>\n",
       "      <td>NaN</td>\n",
       "      <td>29.74</td>\n",
       "      <td>NaN</td>\n",
       "      <td>NaN</td>\n",
       "      <td>NaN</td>\n",
       "      <td>NaN</td>\n",
       "      <td>NaN</td>\n",
       "      <td>NaN</td>\n",
       "      <td>NaN</td>\n",
       "      <td>NaN</td>\n",
       "    </tr>\n",
       "    <tr>\n",
       "      <td>3</td>\n",
       "      <td>28450</td>\n",
       "      <td>99999</td>\n",
       "      <td>201705010100</td>\n",
       "      <td>188.0</td>\n",
       "      <td>12.0</td>\n",
       "      <td>16.0</td>\n",
       "      <td>NaN</td>\n",
       "      <td>NaN</td>\n",
       "      <td>NaN</td>\n",
       "      <td>NaN</td>\n",
       "      <td>NaN</td>\n",
       "      <td>3.2</td>\n",
       "      <td>NaN</td>\n",
       "      <td>NaN</td>\n",
       "      <td>NaN</td>\n",
       "      <td>NaN</td>\n",
       "      <td>77.0</td>\n",
       "      <td>NaN</td>\n",
       "      <td>NaN</td>\n",
       "      <td>NaN</td>\n",
       "      <td>NaN</td>\n",
       "      <td>31.0</td>\n",
       "      <td>30.0</td>\n",
       "      <td>1009.1</td>\n",
       "      <td>NaN</td>\n",
       "      <td>984.0</td>\n",
       "      <td>NaN</td>\n",
       "      <td>NaN</td>\n",
       "      <td>NaN</td>\n",
       "      <td>NaN</td>\n",
       "      <td>NaN</td>\n",
       "      <td>NaN</td>\n",
       "      <td>35.0</td>\n",
       "    </tr>\n",
       "    <tr>\n",
       "      <td>4</td>\n",
       "      <td>28450</td>\n",
       "      <td>99999</td>\n",
       "      <td>201705010120</td>\n",
       "      <td>200.0</td>\n",
       "      <td>13.0</td>\n",
       "      <td>NaN</td>\n",
       "      <td>2.0</td>\n",
       "      <td>OBS</td>\n",
       "      <td>NaN</td>\n",
       "      <td>NaN</td>\n",
       "      <td>NaN</td>\n",
       "      <td>1.8</td>\n",
       "      <td>NaN</td>\n",
       "      <td>NaN</td>\n",
       "      <td>NaN</td>\n",
       "      <td>NaN</td>\n",
       "      <td>72.0</td>\n",
       "      <td>NaN</td>\n",
       "      <td>NaN</td>\n",
       "      <td>NaN</td>\n",
       "      <td>NaN</td>\n",
       "      <td>30.0</td>\n",
       "      <td>30.0</td>\n",
       "      <td>NaN</td>\n",
       "      <td>29.74</td>\n",
       "      <td>NaN</td>\n",
       "      <td>NaN</td>\n",
       "      <td>NaN</td>\n",
       "      <td>NaN</td>\n",
       "      <td>NaN</td>\n",
       "      <td>NaN</td>\n",
       "      <td>NaN</td>\n",
       "      <td>NaN</td>\n",
       "    </tr>\n",
       "  </tbody>\n",
       "</table>\n",
       "</div>"
      ],
      "text/plain": [
       "    USAF   WBAN  YR--MODAHRMN    DIR   SPD   GUS  CLG  SKC   L   M   H  VSB  \\\n",
       "0  28450  99999  201705010000  174.0  10.0  14.0  NaN  NaN NaN NaN NaN  2.2   \n",
       "1  28450  99999  201705010020  180.0  10.0   NaN  4.0  NaN NaN NaN NaN  2.9   \n",
       "2  28450  99999  201705010050  190.0  10.0   NaN  4.0  NaN NaN NaN NaN  2.1   \n",
       "3  28450  99999  201705010100  188.0  12.0  16.0  NaN  NaN NaN NaN NaN  3.2   \n",
       "4  28450  99999  201705010120  200.0  13.0   NaN  2.0  OBS NaN NaN NaN  1.8   \n",
       "\n",
       "   MW  MW.1  MW.2  MW.3    AW  AW.1  AW.2  AW.3    W  TEMP  DEWP     SLP  \\\n",
       "0 NaN   NaN   NaN   NaN  67.0   NaN   NaN   NaN  8.0  31.0  31.0  1009.2   \n",
       "1 NaN   NaN   NaN   NaN  10.0   NaN   NaN   NaN  NaN  30.0  30.0     NaN   \n",
       "2 NaN   NaN   NaN   NaN  10.0   NaN   NaN   NaN  NaN  30.0  30.0     NaN   \n",
       "3 NaN   NaN   NaN   NaN  77.0   NaN   NaN   NaN  NaN  31.0  30.0  1009.1   \n",
       "4 NaN   NaN   NaN   NaN  72.0   NaN   NaN   NaN  NaN  30.0  30.0     NaN   \n",
       "\n",
       "     ALT    STP  MAX  MIN  PCP01  PCP06  PCP24  PCPXX    SD  \n",
       "0    NaN  984.1  NaN  NaN    NaN    NaN    NaN    NaN  35.0  \n",
       "1  29.74    NaN  NaN  NaN    NaN    NaN    NaN    NaN   NaN  \n",
       "2  29.74    NaN  NaN  NaN    NaN    NaN    NaN    NaN   NaN  \n",
       "3    NaN  984.0  NaN  NaN    NaN    NaN    NaN    NaN  35.0  \n",
       "4  29.74    NaN  NaN  NaN    NaN    NaN    NaN    NaN   NaN  "
      ]
     },
     "execution_count": 19,
     "metadata": {},
     "output_type": "execute_result"
    }
   ],
   "source": [
    "# Import Pandas and read in the data from csv\n",
    "import pandas as pd\n",
    "pd.set_option('display.max_columns', None)\n",
    "import numpy as np\n",
    "data_table = \"data/6153237444115dat.csv\"\n",
    "\n",
    "# my code here\n",
    "data = pd.read_csv(data_table, sep=',', na_values=['*', '**', '***', '****', '*****', '******'])\n",
    "data.head()"
   ]
  },
  {
   "cell_type": "markdown",
   "metadata": {
    "deletable": false,
    "editable": false,
    "nbgrader": {
     "cell_type": "markdown",
     "checksum": "dd19a1714fa5faecbfaa670fc41448b3",
     "grade": false,
     "grade_id": "cell-9880f219a5fc3f36",
     "locked": true,
     "schema_version": 3,
     "solution": false,
     "task": false
    }
   },
   "source": [
    "### Part 2 (*2 points*)\n",
    "\n",
    "Next, you can subset the data and remove the no-data values.\n",
    "\n",
    " - Create a new variable `selected`\n",
    " - Select the columns `USAF`, `YR--MODAHRMN`, `TEMP`, `MAX`, and `MIN` from the `data` dataframe and assign them to the new variable `selected`\n",
    " - Remove all rows from `selected` that have NoData in the column `TEMP` using the `dropna()` function"
   ]
  },
  {
   "cell_type": "code",
   "execution_count": 20,
   "metadata": {
    "deletable": false,
    "nbgrader": {
     "cell_type": "code",
     "checksum": "740f5ea0b43a39df98c8686c9008485d",
     "grade": false,
     "grade_id": "dataframe_subset",
     "locked": false,
     "schema_version": 3,
     "solution": true
    }
   },
   "outputs": [
    {
     "data": {
      "text/html": [
       "<div>\n",
       "<style scoped>\n",
       "    .dataframe tbody tr th:only-of-type {\n",
       "        vertical-align: middle;\n",
       "    }\n",
       "\n",
       "    .dataframe tbody tr th {\n",
       "        vertical-align: top;\n",
       "    }\n",
       "\n",
       "    .dataframe thead th {\n",
       "        text-align: right;\n",
       "    }\n",
       "</style>\n",
       "<table border=\"1\" class=\"dataframe\">\n",
       "  <thead>\n",
       "    <tr style=\"text-align: right;\">\n",
       "      <th></th>\n",
       "      <th>USAF</th>\n",
       "      <th>YR--MODAHRMN</th>\n",
       "      <th>TEMP</th>\n",
       "      <th>MAX</th>\n",
       "      <th>MIN</th>\n",
       "    </tr>\n",
       "  </thead>\n",
       "  <tbody>\n",
       "    <tr>\n",
       "      <td>0</td>\n",
       "      <td>28450</td>\n",
       "      <td>201705010000</td>\n",
       "      <td>31.0</td>\n",
       "      <td>NaN</td>\n",
       "      <td>NaN</td>\n",
       "    </tr>\n",
       "    <tr>\n",
       "      <td>1</td>\n",
       "      <td>28450</td>\n",
       "      <td>201705010020</td>\n",
       "      <td>30.0</td>\n",
       "      <td>NaN</td>\n",
       "      <td>NaN</td>\n",
       "    </tr>\n",
       "    <tr>\n",
       "      <td>2</td>\n",
       "      <td>28450</td>\n",
       "      <td>201705010050</td>\n",
       "      <td>30.0</td>\n",
       "      <td>NaN</td>\n",
       "      <td>NaN</td>\n",
       "    </tr>\n",
       "    <tr>\n",
       "      <td>3</td>\n",
       "      <td>28450</td>\n",
       "      <td>201705010100</td>\n",
       "      <td>31.0</td>\n",
       "      <td>NaN</td>\n",
       "      <td>NaN</td>\n",
       "    </tr>\n",
       "    <tr>\n",
       "      <td>4</td>\n",
       "      <td>28450</td>\n",
       "      <td>201705010120</td>\n",
       "      <td>30.0</td>\n",
       "      <td>NaN</td>\n",
       "      <td>NaN</td>\n",
       "    </tr>\n",
       "    <tr>\n",
       "      <td>...</td>\n",
       "      <td>...</td>\n",
       "      <td>...</td>\n",
       "      <td>...</td>\n",
       "      <td>...</td>\n",
       "      <td>...</td>\n",
       "    </tr>\n",
       "    <tr>\n",
       "      <td>11689</td>\n",
       "      <td>29980</td>\n",
       "      <td>201708311900</td>\n",
       "      <td>64.0</td>\n",
       "      <td>NaN</td>\n",
       "      <td>NaN</td>\n",
       "    </tr>\n",
       "    <tr>\n",
       "      <td>11690</td>\n",
       "      <td>29980</td>\n",
       "      <td>201708312000</td>\n",
       "      <td>64.0</td>\n",
       "      <td>NaN</td>\n",
       "      <td>NaN</td>\n",
       "    </tr>\n",
       "    <tr>\n",
       "      <td>11691</td>\n",
       "      <td>29980</td>\n",
       "      <td>201708312100</td>\n",
       "      <td>64.0</td>\n",
       "      <td>NaN</td>\n",
       "      <td>NaN</td>\n",
       "    </tr>\n",
       "    <tr>\n",
       "      <td>11692</td>\n",
       "      <td>29980</td>\n",
       "      <td>201708312200</td>\n",
       "      <td>64.0</td>\n",
       "      <td>NaN</td>\n",
       "      <td>NaN</td>\n",
       "    </tr>\n",
       "    <tr>\n",
       "      <td>11693</td>\n",
       "      <td>29980</td>\n",
       "      <td>201708312300</td>\n",
       "      <td>64.0</td>\n",
       "      <td>NaN</td>\n",
       "      <td>NaN</td>\n",
       "    </tr>\n",
       "  </tbody>\n",
       "</table>\n",
       "<p>11691 rows × 5 columns</p>\n",
       "</div>"
      ],
      "text/plain": [
       "        USAF  YR--MODAHRMN  TEMP  MAX  MIN\n",
       "0      28450  201705010000  31.0  NaN  NaN\n",
       "1      28450  201705010020  30.0  NaN  NaN\n",
       "2      28450  201705010050  30.0  NaN  NaN\n",
       "3      28450  201705010100  31.0  NaN  NaN\n",
       "4      28450  201705010120  30.0  NaN  NaN\n",
       "...      ...           ...   ...  ...  ...\n",
       "11689  29980  201708311900  64.0  NaN  NaN\n",
       "11690  29980  201708312000  64.0  NaN  NaN\n",
       "11691  29980  201708312100  64.0  NaN  NaN\n",
       "11692  29980  201708312200  64.0  NaN  NaN\n",
       "11693  29980  201708312300  64.0  NaN  NaN\n",
       "\n",
       "[11691 rows x 5 columns]"
      ]
     },
     "execution_count": 20,
     "metadata": {},
     "output_type": "execute_result"
    }
   ],
   "source": [
    "pd.set_option('display.max_columns', None)\n",
    "selected = data.loc[:, ('USAF', 'YR--MODAHRMN', 'TEMP', 'MAX', 'MIN')]\n",
    "# here my code\n",
    "selected.dropna(subset=['TEMP'])"
   ]
  },
  {
   "cell_type": "code",
   "execution_count": 21,
   "metadata": {
    "deletable": false,
    "editable": false,
    "nbgrader": {
     "cell_type": "code",
     "checksum": "b385f3a09065a7efaa437ebc33230eb8",
     "grade": true,
     "grade_id": "problem_2_dataframe_subset_test1",
     "locked": true,
     "points": 1,
     "schema_version": 3,
     "solution": false
    }
   },
   "outputs": [],
   "source": [
    "# Check your dataframe \n",
    "selected.head()\n",
    "\n",
    "from nose.tools import ok_, assert_equal\n",
    "import inspect\n",
    "\n",
    "# Check that selected dataframe exist\n",
    "ok_('selected' in locals())\n"
   ]
  },
  {
   "cell_type": "code",
   "execution_count": 22,
   "metadata": {
    "deletable": false,
    "editable": false,
    "nbgrader": {
     "cell_type": "code",
     "checksum": "e25ef9bbb7b31647ba320f699942b239",
     "grade": true,
     "grade_id": "problem_2_dataframe_subset_test2",
     "locked": true,
     "points": 1,
     "schema_version": 3,
     "solution": false
    }
   },
   "outputs": [
    {
     "data": {
      "text/plain": [
       "11694"
      ]
     },
     "execution_count": 22,
     "metadata": {},
     "output_type": "execute_result"
    }
   ],
   "source": [
    "# Check your dataframe \n",
    "len(selected)"
   ]
  },
  {
   "cell_type": "markdown",
   "metadata": {
    "deletable": false,
    "editable": false,
    "nbgrader": {
     "cell_type": "markdown",
     "checksum": "96371d8c2f47390596effbdb0a1b2b1a",
     "grade": false,
     "grade_id": "cell-afd940c0f8c0e2c7",
     "locked": true,
     "schema_version": 3,
     "solution": false,
     "task": false
    }
   },
   "source": [
    "### Part 3 (*2 points*)\n",
    "\n",
    "Next, you can convert the temperature values in Fahrenheit to Celsius.\n",
    "\n",
    "- Create a new column in `selected` called `Celsius`\n",
    "- Convert the Fahrenheit temperatures from `TEMP` using the conversion formula (below) and store the results in the new `Celsius`column.\n",
    "\n",
    "$$\n",
    "\\begin{equation}\n",
    "  T_{\\textrm{C}} = (T_{\\textrm{F}} - 32)~/~1.8\n",
    "\\end{equation}\n",
    "$$\n",
    "\n",
    "- Round the values in the `Celsius` column to have 0 decimals (**do not** create a new column, update the current one)\n",
    "- Convert the `Celsius` values into integers (**do not** create a new column, update the current one)"
   ]
  },
  {
   "cell_type": "code",
   "execution_count": 23,
   "metadata": {
    "deletable": false,
    "nbgrader": {
     "cell_type": "code",
     "checksum": "eacb918f5aa4cf324efed3bb68041780",
     "grade": false,
     "grade_id": "temperature_calculation",
     "locked": false,
     "schema_version": 3,
     "solution": true
    }
   },
   "outputs": [
    {
     "data": {
      "text/plain": [
       "0   -0.555556\n",
       "1   -1.111111\n",
       "2   -1.111111\n",
       "3   -0.555556\n",
       "4   -1.111111\n",
       "Name: Celsius, dtype: float64"
      ]
     },
     "execution_count": 23,
     "metadata": {},
     "output_type": "execute_result"
    }
   ],
   "source": [
    "# my code here\n",
    "selected['Celsius'] = ((selected['TEMP'] - 32) / 1.8)\n",
    "selected[\"Celsius\"].head()"
   ]
  },
  {
   "cell_type": "code",
   "execution_count": 24,
   "metadata": {},
   "outputs": [
    {
     "name": "stdout",
     "output_type": "stream",
     "text": [
      "0        -1.0\n",
      "1        -1.0\n",
      "2        -1.0\n",
      "3        -1.0\n",
      "4        -1.0\n",
      "         ... \n",
      "11689    18.0\n",
      "11690    18.0\n",
      "11691    18.0\n",
      "11692    18.0\n",
      "11693    18.0\n",
      "Name: Celsius, Length: 11694, dtype: float64\n"
     ]
    }
   ],
   "source": [
    "#.astype('Int64') not working here\n",
    "selected['Celsius'] = selected['Celsius'].round(0)\n",
    "print(selected['Celsius'])"
   ]
  },
  {
   "cell_type": "code",
   "execution_count": 25,
   "metadata": {
    "deletable": false,
    "editable": false,
    "nbgrader": {
     "cell_type": "code",
     "checksum": "8d4ec6c52161fb53c3cb0b5f0dcc087f",
     "grade": true,
     "grade_id": "problem_2_temperature_calculation_test1",
     "locked": true,
     "points": 1.5,
     "schema_version": 3,
     "solution": false
    },
    "scrolled": true
   },
   "outputs": [
    {
     "data": {
      "text/html": [
       "<div>\n",
       "<style scoped>\n",
       "    .dataframe tbody tr th:only-of-type {\n",
       "        vertical-align: middle;\n",
       "    }\n",
       "\n",
       "    .dataframe tbody tr th {\n",
       "        vertical-align: top;\n",
       "    }\n",
       "\n",
       "    .dataframe thead th {\n",
       "        text-align: right;\n",
       "    }\n",
       "</style>\n",
       "<table border=\"1\" class=\"dataframe\">\n",
       "  <thead>\n",
       "    <tr style=\"text-align: right;\">\n",
       "      <th></th>\n",
       "      <th>USAF</th>\n",
       "      <th>YR--MODAHRMN</th>\n",
       "      <th>TEMP</th>\n",
       "      <th>MAX</th>\n",
       "      <th>MIN</th>\n",
       "      <th>Celsius</th>\n",
       "    </tr>\n",
       "  </thead>\n",
       "  <tbody>\n",
       "    <tr>\n",
       "      <td>0</td>\n",
       "      <td>28450</td>\n",
       "      <td>201705010000</td>\n",
       "      <td>31.0</td>\n",
       "      <td>NaN</td>\n",
       "      <td>NaN</td>\n",
       "      <td>-1.0</td>\n",
       "    </tr>\n",
       "    <tr>\n",
       "      <td>1</td>\n",
       "      <td>28450</td>\n",
       "      <td>201705010020</td>\n",
       "      <td>30.0</td>\n",
       "      <td>NaN</td>\n",
       "      <td>NaN</td>\n",
       "      <td>-1.0</td>\n",
       "    </tr>\n",
       "    <tr>\n",
       "      <td>2</td>\n",
       "      <td>28450</td>\n",
       "      <td>201705010050</td>\n",
       "      <td>30.0</td>\n",
       "      <td>NaN</td>\n",
       "      <td>NaN</td>\n",
       "      <td>-1.0</td>\n",
       "    </tr>\n",
       "    <tr>\n",
       "      <td>3</td>\n",
       "      <td>28450</td>\n",
       "      <td>201705010100</td>\n",
       "      <td>31.0</td>\n",
       "      <td>NaN</td>\n",
       "      <td>NaN</td>\n",
       "      <td>-1.0</td>\n",
       "    </tr>\n",
       "    <tr>\n",
       "      <td>4</td>\n",
       "      <td>28450</td>\n",
       "      <td>201705010120</td>\n",
       "      <td>30.0</td>\n",
       "      <td>NaN</td>\n",
       "      <td>NaN</td>\n",
       "      <td>-1.0</td>\n",
       "    </tr>\n",
       "  </tbody>\n",
       "</table>\n",
       "</div>"
      ],
      "text/plain": [
       "    USAF  YR--MODAHRMN  TEMP  MAX  MIN  Celsius\n",
       "0  28450  201705010000  31.0  NaN  NaN     -1.0\n",
       "1  28450  201705010020  30.0  NaN  NaN     -1.0\n",
       "2  28450  201705010050  30.0  NaN  NaN     -1.0\n",
       "3  28450  201705010100  31.0  NaN  NaN     -1.0\n",
       "4  28450  201705010120  30.0  NaN  NaN     -1.0"
      ]
     },
     "execution_count": 25,
     "metadata": {},
     "output_type": "execute_result"
    }
   ],
   "source": [
    "# Check your dataframe\n",
    "selected.head()\n"
   ]
  },
  {
   "cell_type": "code",
   "execution_count": 26,
   "metadata": {
    "deletable": false,
    "editable": false,
    "nbgrader": {
     "cell_type": "code",
     "checksum": "7b84ce6bcd4d77b7812ad3518ab974c2",
     "grade": true,
     "grade_id": "problem_2_temperature_calculation_test2",
     "locked": true,
     "points": 0.5,
     "schema_version": 3,
     "solution": false
    }
   },
   "outputs": [
    {
     "ename": "AssertionError",
     "evalue": "None",
     "output_type": "error",
     "traceback": [
      "\u001b[1;31m---------------------------------------------------------------------------\u001b[0m",
      "\u001b[1;31mAssertionError\u001b[0m                            Traceback (most recent call last)",
      "\u001b[1;32m<ipython-input-26-337169e36f0c>\u001b[0m in \u001b[0;36m<module>\u001b[1;34m\u001b[0m\n\u001b[0;32m      1\u001b[0m \u001b[1;31m# Check that the temperatures are converted into interger type\u001b[0m\u001b[1;33m\u001b[0m\u001b[1;33m\u001b[0m\u001b[1;33m\u001b[0m\u001b[0m\n\u001b[1;32m----> 2\u001b[1;33m \u001b[0mok_\u001b[0m\u001b[1;33m(\u001b[0m\u001b[0mselected\u001b[0m\u001b[1;33m[\u001b[0m\u001b[1;34m'Celsius'\u001b[0m\u001b[1;33m]\u001b[0m\u001b[1;33m.\u001b[0m\u001b[0mdtype\u001b[0m \u001b[1;33m==\u001b[0m \u001b[1;34m'int32'\u001b[0m \u001b[1;32mor\u001b[0m \u001b[0mselected\u001b[0m\u001b[1;33m[\u001b[0m\u001b[1;34m'Celsius'\u001b[0m\u001b[1;33m]\u001b[0m\u001b[1;33m.\u001b[0m\u001b[0mdtype\u001b[0m \u001b[1;33m==\u001b[0m \u001b[1;34m'int64'\u001b[0m\u001b[1;33m)\u001b[0m\u001b[1;33m\u001b[0m\u001b[1;33m\u001b[0m\u001b[0m\n\u001b[0m",
      "\u001b[1;32mC:\\ProgramData\\Anaconda3\\lib\\site-packages\\nose\\tools\\trivial.py\u001b[0m in \u001b[0;36mok_\u001b[1;34m(expr, msg)\u001b[0m\n\u001b[0;32m     20\u001b[0m     \"\"\"\n\u001b[0;32m     21\u001b[0m     \u001b[1;32mif\u001b[0m \u001b[1;32mnot\u001b[0m \u001b[0mexpr\u001b[0m\u001b[1;33m:\u001b[0m\u001b[1;33m\u001b[0m\u001b[1;33m\u001b[0m\u001b[0m\n\u001b[1;32m---> 22\u001b[1;33m         \u001b[1;32mraise\u001b[0m \u001b[0mAssertionError\u001b[0m\u001b[1;33m(\u001b[0m\u001b[0mmsg\u001b[0m\u001b[1;33m)\u001b[0m\u001b[1;33m\u001b[0m\u001b[1;33m\u001b[0m\u001b[0m\n\u001b[0m\u001b[0;32m     23\u001b[0m \u001b[1;33m\u001b[0m\u001b[0m\n\u001b[0;32m     24\u001b[0m \u001b[1;33m\u001b[0m\u001b[0m\n",
      "\u001b[1;31mAssertionError\u001b[0m: None"
     ]
    }
   ],
   "source": [
    "# Check that the temperatures are converted into interger type\n",
    "ok_(selected['Celsius'].dtype == 'int32' or selected['Celsius'].dtype == 'int64')"
   ]
  },
  {
   "cell_type": "markdown",
   "metadata": {
    "collapsed": true,
    "deletable": false,
    "editable": false,
    "nbgrader": {
     "cell_type": "markdown",
     "checksum": "79b18aa9fae139a84f98aa170083ad2c",
     "grade": false,
     "grade_id": "cell-068cfca2d756fb80",
     "locked": true,
     "schema_version": 3,
     "solution": false,
     "task": false
    }
   },
   "source": [
    "### Part 4 (*2 points*)\n",
    "\n",
    "Your next task is to divide `selected` into two separate dataframes. Please use the given variable names and write your answer to the codeblock below.\n",
    "\n",
    "- Select all rows from the `selected` DataFrame with the `USAF` code `29980` into a variable called `kumpula`\n",
    "- Select all rows from the `selected` DataFrame with the `USAF` code `28450` into a variable called `rovaniemi`"
   ]
  },
  {
   "cell_type": "code",
   "execution_count": 52,
   "metadata": {
    "deletable": false,
    "nbgrader": {
     "cell_type": "code",
     "checksum": "9683c6cb08acbd19b21aff353c63360e",
     "grade": false,
     "grade_id": "subsets",
     "locked": false,
     "schema_version": 3,
     "solution": true
    }
   },
   "outputs": [],
   "source": [
    "pd.set_option('display.max_columns', None)\n",
    "kumpula = None\n",
    "rovaniemi = None\n",
    "\n",
    "# my code here\n",
    "kumpula = selected.loc[(selected['USAF'] == 29980)]\n",
    "\n",
    "rovaniemi = selected.loc[(selected['USAF'] == 28450)]"
   ]
  },
  {
   "cell_type": "code",
   "execution_count": 53,
   "metadata": {
    "deletable": false,
    "editable": false,
    "nbgrader": {
     "cell_type": "code",
     "checksum": "52f03e923a34c2675783649b2af6cdab",
     "grade": true,
     "grade_id": "problem_2_subsets_test1",
     "locked": true,
     "points": 1,
     "schema_version": 3,
     "solution": false
    }
   },
   "outputs": [
    {
     "name": "stdout",
     "output_type": "stream",
     "text": [
      "Kumpula: \n",
      "        USAF  YR--MODAHRMN  TEMP  MAX  MIN  Celsius\n",
      "8770  29980  201705010000  37.0  NaN  NaN      3.0\n",
      "8771  29980  201705010100  37.0  NaN  NaN      3.0\n",
      "8772  29980  201705010200  37.0  NaN  NaN      3.0\n",
      "8773  29980  201705010300  37.0  NaN  NaN      3.0\n",
      "8774  29980  201705010400  39.0  NaN  NaN      4.0 \n",
      "\n"
     ]
    }
   ],
   "source": [
    "# Check the dataframe\n",
    "print(\"Kumpula: \\n\", kumpula.head(), \"\\n\")\n"
   ]
  },
  {
   "cell_type": "code",
   "execution_count": 54,
   "metadata": {
    "deletable": false,
    "editable": false,
    "nbgrader": {
     "cell_type": "code",
     "checksum": "580ef79a0929d5619ce0985bbbfab296",
     "grade": true,
     "grade_id": "problem_2_subsets_test2",
     "locked": true,
     "points": 1,
     "schema_version": 3,
     "solution": false
    }
   },
   "outputs": [
    {
     "name": "stdout",
     "output_type": "stream",
     "text": [
      "Rovaniemi: \n",
      "     USAF  YR--MODAHRMN  TEMP  MAX  MIN  Celsius\n",
      "0  28450  201705010000  31.0  NaN  NaN     -1.0\n",
      "1  28450  201705010020  30.0  NaN  NaN     -1.0\n",
      "2  28450  201705010050  30.0  NaN  NaN     -1.0\n",
      "3  28450  201705010100  31.0  NaN  NaN     -1.0\n",
      "4  28450  201705010120  30.0  NaN  NaN     -1.0 \n",
      "\n"
     ]
    }
   ],
   "source": [
    "# Check the dataframe\n",
    "print(\"Rovaniemi: \\n\", rovaniemi.head(), \"\\n\")\n"
   ]
  },
  {
   "cell_type": "markdown",
   "metadata": {
    "deletable": false,
    "editable": false,
    "nbgrader": {
     "cell_type": "markdown",
     "checksum": "85ed34b03a2b98a3596cb49bed728c32",
     "grade": false,
     "grade_id": "cell-e7473ef24ff78a17",
     "locked": true,
     "schema_version": 3,
     "solution": false,
     "task": false
    }
   },
   "source": [
    "### Part 5 (*3 points*)\n",
    "\n",
    "Now you can save your selections to csv files.\n",
    "\n",
    "- Save the `kumpula` DataFrame into the file `Kumpula_temps_May_Aug_2017.csv` (CSV format) \n",
    "    - Separate the columns with commas (`,`)\n",
    "    - Use only 2 decimals for the floating point numbers\n",
    "- Save the `rovaniemi` DataFrame into the file `Rovaniemi_temps_May_Aug_2017.csv` (CSV format) \n",
    "    - Separate the columns with commas (`,`)\n",
    "    - Use only 2 decimals for the floating point numbers\n",
    "- Upload both of your data files to your Exercise 5 repository"
   ]
  },
  {
   "cell_type": "code",
   "execution_count": 55,
   "metadata": {
    "deletable": false,
    "nbgrader": {
     "cell_type": "code",
     "checksum": "18ad06b5d0ee5f381763ecd7e3fc3957",
     "grade": true,
     "grade_id": "to_csv",
     "locked": false,
     "points": 2,
     "schema_version": 3,
     "solution": true
    }
   },
   "outputs": [],
   "source": [
    "# my code here\n",
    "kumpula_temps = \"data/Kumpula_temps_May_Aug_2017.csv\"\n",
    "rovaniemi_temps = \"data/Rovaniemi_temps_May_Aug_2017.csv\"\n",
    "\n",
    "# Save dataframe to csv\n",
    "kumpula.to_csv(kumpula_temps, sep=',', float_format='%.2f')\n",
    "rovaniemi.to_csv(rovaniemi_temps, sep=',', float_format='%.2f')"
   ]
  },
  {
   "cell_type": "code",
   "execution_count": 56,
   "metadata": {
    "deletable": false,
    "editable": false,
    "nbgrader": {
     "cell_type": "code",
     "checksum": "a076f46020608e128f6dafd58178dd4d",
     "grade": true,
     "grade_id": "problem_2_to_csv_test",
     "locked": true,
     "points": 1,
     "schema_version": 3,
     "solution": false
    }
   },
   "outputs": [],
   "source": [
    "#Read-only cell for hidden tests :)"
   ]
  },
  {
   "cell_type": "markdown",
   "metadata": {
    "deletable": false,
    "editable": false,
    "nbgrader": {
     "cell_type": "markdown",
     "checksum": "de3253816645b896c69047f4c1ed78fc",
     "grade": false,
     "grade_id": "cell-3d8b5609d0cea2a9",
     "locked": true,
     "schema_version": 3,
     "solution": false
    }
   },
   "source": [
    "### Problem 2 summary\n",
    "\n",
    "In the [Exercise 5 summary notebook](Exercise-5-summary.ipynb) you can find a few additional points to consider and two final questions for Problem 2. Please answer those question in [that notebook](Exercise-5-summary.ipynb)."
   ]
  },
  {
   "cell_type": "markdown",
   "metadata": {
    "collapsed": true,
    "deletable": false,
    "editable": false,
    "nbgrader": {
     "cell_type": "markdown",
     "checksum": "96a69edaaaab214acf38f25aaec0336b",
     "grade": false,
     "grade_id": "cell-2aac3add6dc14b23",
     "locked": true,
     "schema_version": 3,
     "solution": false,
     "task": false
    }
   },
   "source": [
    "### On to Problem 3\n",
    "\n",
    "Now you can continue to [Problem 3: Data analysis](Exercise-5-problem-3.ipynb)"
   ]
  }
 ],
 "metadata": {
  "anaconda-cloud": {},
  "kernelspec": {
   "display_name": "Python 3",
   "language": "python",
   "name": "python3"
  },
  "language_info": {
   "codemirror_mode": {
    "name": "ipython",
    "version": 3
   },
   "file_extension": ".py",
   "mimetype": "text/x-python",
   "name": "python",
   "nbconvert_exporter": "python",
   "pygments_lexer": "ipython3",
   "version": "3.7.4"
  }
 },
 "nbformat": 4,
 "nbformat_minor": 2
}
