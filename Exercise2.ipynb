{
 "cells": [
  {
   "cell_type": "markdown",
   "metadata": {},
   "source": [
    "#### Problem 1 - Making changes to code and using Git"
   ]
  },
  {
   "cell_type": "code",
   "execution_count": 1,
   "metadata": {},
   "outputs": [],
   "source": [
    "# Read-only code cell\n",
    "station_names = ['Harmaja', 'Kaisaniemi', 'Kaivopuisto', 'Kumpula', 'lighthouse', 'Malmi airfield', 'Suomenlinna aaltopoiju', 'Vuosaari harbour']"
   ]
  },
  {
   "cell_type": "code",
   "execution_count": 2,
   "metadata": {},
   "outputs": [],
   "source": [
    "# Read-only code cell\n",
    "station_start_years = [1989, 1844, 1904, 2005, 2003, 1937, 2016, 2012]"
   ]
  },
  {
   "cell_type": "code",
   "execution_count": 3,
   "metadata": {},
   "outputs": [],
   "source": [
    "# My code here\n",
    "selected_station = 'Kaisaniemi'"
   ]
  },
  {
   "cell_type": "code",
   "execution_count": 4,
   "metadata": {},
   "outputs": [
    {
     "name": "stdout",
     "output_type": "stream",
     "text": [
      "Kaisaniemi\n"
     ]
    }
   ],
   "source": [
    "print(selected_station)"
   ]
  },
  {
   "cell_type": "code",
   "execution_count": 5,
   "metadata": {},
   "outputs": [
    {
     "name": "stdout",
     "output_type": "stream",
     "text": [
      "1\n"
     ]
    }
   ],
   "source": [
    "# Read-only code cell\n",
    "station_index = station_names.index(selected_station)\n",
    "print(station_index)"
   ]
  },
  {
   "cell_type": "code",
   "execution_count": 6,
   "metadata": {},
   "outputs": [
    {
     "name": "stdout",
     "output_type": "stream",
     "text": [
      "176\n"
     ]
    }
   ],
   "source": [
    "# My code here\n",
    "station_years = 2020 - station_start_years[station_index]\n",
    "print(station_years)"
   ]
  },
  {
   "cell_type": "code",
   "execution_count": 7,
   "metadata": {},
   "outputs": [
    {
     "name": "stdout",
     "output_type": "stream",
     "text": [
      "The Helsinki Kaisaniemi station has been operational for 176 years.\n"
     ]
    }
   ],
   "source": [
    "# My code here\n",
    "print_statement = \"The Helsinki \" + selected_station + \" station has been operational for \"+ str(station_years)+ \" years.\"\n",
    "print(print_statement)"
   ]
  },
  {
   "cell_type": "markdown",
   "metadata": {},
   "source": [
    "##### Tests for problem 1"
   ]
  },
  {
   "cell_type": "code",
   "execution_count": 8,
   "metadata": {},
   "outputs": [],
   "source": [
    "# importing tools for running some tests\n",
    "from nose.tools import ok_, assert_equal\n",
    "\n",
    "#Validate that station_years is a variable of integer type\n",
    "assert_equal(type(station_years),int)"
   ]
  },
  {
   "cell_type": "code",
   "execution_count": 9,
   "metadata": {},
   "outputs": [],
   "source": [
    "#Validate that the print statement is correct for Kaisaniemi station:\n",
    "# Note! Your print statement should work for all the stations!\n",
    "assert_equal(print_statement, 'The Helsinki Kaisaniemi station has been operational for 176 years.')"
   ]
  },
  {
   "cell_type": "markdown",
   "metadata": {},
   "source": [
    "#### Problem 2 - Accessing monthly average temperatures"
   ]
  },
  {
   "cell_type": "code",
   "execution_count": 10,
   "metadata": {},
   "outputs": [
    {
     "name": "stdout",
     "output_type": "stream",
     "text": [
      "The average temperature in Helsinki in December is -1.5\n"
     ]
    }
   ],
   "source": [
    "# My code here\n",
    "# here is the variable which you use to set the selected month:\n",
    "selected_month_index = 12\n",
    "\n",
    "# Here are also the names of the two lists you should use for this problem. Please don't change the variable names!\n",
    "months = ['January', 'February', 'March', 'April', 'May', 'June', 'July', 'August', 'September', 'October', 'November', 'December']\n",
    "average_temp = [-3.5, -4.5, -1.0, 4.0, 10.0, 15.0, 18.0, 16.0, 11.5, 6.0, 2.0, -1.5]\n",
    "\n",
    "# Using the lists and their indices, generate the desired print statement:\n",
    "print_statement = \"The average temperature in Helsinki in \" + str(months[selected_month_index -1]) + \" is \" + str(average_temp[selected_month_index -1])\n",
    "print(print_statement)"
   ]
  },
  {
   "cell_type": "markdown",
   "metadata": {},
   "source": [
    "##### Tests for problem 2"
   ]
  },
  {
   "cell_type": "code",
   "execution_count": 11,
   "metadata": {},
   "outputs": [],
   "source": [
    "#Validate the length of two lists are 12\n",
    "ok_(len(months)==12)\n",
    "ok_(len(average_temp)==12)"
   ]
  },
  {
   "cell_type": "code",
   "execution_count": 12,
   "metadata": {},
   "outputs": [],
   "source": [
    "#Validate that variable months and average_temp are lists\n",
    "ok_(isinstance(months, list), 'Variable months is not a list')\n",
    "ok_(isinstance(average_temp, list), 'Variable average_temp is not a list')"
   ]
  },
  {
   "cell_type": "code",
   "execution_count": 13,
   "metadata": {},
   "outputs": [],
   "source": [
    "#Validate the print statement is correct; \n",
    "# Set selected_month_index to correspond with July before running this cell.\n",
    "# Note! Your code should work with any of the 12 months!\n",
    "assert_equal(print_statement, 'The average temperature in Helsinki in ' + str(months[selected_month_index -1]) + ' is ' + str(average_temp[selected_month_index -1]))"
   ]
  },
  {
   "cell_type": "markdown",
   "metadata": {},
   "source": [
    "#### Problem 3 - More practice using Markdown"
   ]
  },
  {
   "cell_type": "markdown",
   "metadata": {},
   "source": [
    "*Adding an image*"
   ]
  },
  {
   "cell_type": "markdown",
   "metadata": {},
   "source": [
    "[![Foo](https://live.staticflickr.com/5527/12744839193_ed3a578714_b.jpg)](https://www.flickr.com/photos/22032337@N02/12744839193)"
   ]
  },
  {
   "cell_type": "markdown",
   "metadata": {},
   "source": [
    "[*(c)Steve Garner, **Flickr** *](https://www.flickr.com/photos/22032337@N02/12744839193)"
   ]
  }
 ],
 "metadata": {
  "kernelspec": {
   "display_name": "Python 3",
   "language": "python",
   "name": "python3"
  },
  "language_info": {
   "codemirror_mode": {
    "name": "ipython",
    "version": 3
   },
   "file_extension": ".py",
   "mimetype": "text/x-python",
   "name": "python",
   "nbconvert_exporter": "python",
   "pygments_lexer": "ipython3",
   "version": "3.7.3"
  }
 },
 "nbformat": 4,
 "nbformat_minor": 2
}
