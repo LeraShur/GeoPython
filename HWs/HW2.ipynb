{
 "cells": [
  {
   "cell_type": "markdown",
   "metadata": {},
   "source": [
    "14.11.2019"
   ]
  },
  {
   "cell_type": "markdown",
   "metadata": {},
   "source": [
    "**Homework Exercise - Topic 2: Analyse List Elements for Common Members**"
   ]
  },
  {
   "cell_type": "markdown",
   "metadata": {},
   "source": [
    "* Create a nested list of positive integer values spanning the range between 1 and 10. \n",
    "\n",
    "    Create 10 groups of 4 members each. [ [1,5,3,7], [2,3,4,10], …]"
   ]
  },
  {
   "cell_type": "code",
   "execution_count": 8,
   "metadata": {},
   "outputs": [
    {
     "name": "stdout",
     "output_type": "stream",
     "text": [
      "[3, 2, 3, 6]\n",
      "[[3, 9, 2, 6], [6, 6, 5, 6], [9, 3, 10, 5], [9, 8, 1, 7], [6, 8, 3, 2], [5, 5, 1, 2], [6, 5, 9, 8], [7, 9, 6, 1], [2, 2, 4, 4], [8, 8, 7, 3]]\n"
     ]
    }
   ],
   "source": [
    "import random\n",
    "a =[]\n",
    "\n",
    "#creates 1 group of 4 members\n",
    "a = [random.randint(1,10) for i in range(4)]\n",
    "print(a)\n",
    "\n",
    "#creates 10 groups of 4 members\n",
    "a = [[random.randint(1,10) for i in range(4)] for n in range(10)]\n",
    "print(a)"
   ]
  }
 ],
 "metadata": {
  "kernelspec": {
   "display_name": "Python 3",
   "language": "python",
   "name": "python3"
  },
  "language_info": {
   "codemirror_mode": {
    "name": "ipython",
    "version": 3
   },
   "file_extension": ".py",
   "mimetype": "text/x-python",
   "name": "python",
   "nbconvert_exporter": "python",
   "pygments_lexer": "ipython3",
   "version": "3.7.4"
  }
 },
 "nbformat": 4,
 "nbformat_minor": 2
}
