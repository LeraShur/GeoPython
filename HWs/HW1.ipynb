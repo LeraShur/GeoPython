{
 "cells": [
  {
   "cell_type": "markdown",
   "metadata": {},
   "source": [
    "11.11.2019"
   ]
  },
  {
   "cell_type": "markdown",
   "metadata": {},
   "source": [
    "**Homework Exercise - Topic 1: Working with standard Python lists**"
   ]
  },
  {
   "cell_type": "markdown",
   "metadata": {},
   "source": [
    "* Create a random list\n",
    "    Create a nested list of 60 elements arranged in 10 sub-lists of 6 entries each to be filled with randomly distributed \n",
    "    integer values between 0 and 15. Example below:\n",
    "    [[1,4,11,2,5,2], [7,12,13,2,3,4], […], …]\n",
    "\n",
    "Use a Python random number generator to fill the list."
   ]
  },
  {
   "cell_type": "code",
   "execution_count": 5,
   "metadata": {},
   "outputs": [
    {
     "data": {
      "text/plain": [
       "[[4, 13, 15, 1, 8, 3],\n",
       " [10, 8, 13, 9, 15, 7],\n",
       " [6, 4, 1, 4, 4, 0],\n",
       " [10, 14, 9, 3, 9, 14],\n",
       " [4, 12, 8, 3, 7, 9],\n",
       " [0, 12, 8, 15, 11, 15],\n",
       " [4, 10, 3, 15, 5, 15],\n",
       " [9, 8, 0, 12, 2, 8],\n",
       " [2, 9, 13, 2, 8, 5],\n",
       " [2, 9, 9, 11, 11, 12]]"
      ]
     },
     "execution_count": 5,
     "metadata": {},
     "output_type": "execute_result"
    }
   ],
   "source": [
    "import random\n",
    "import numpy as np\n",
    "my_list = [[random.randint(0,15) for i in range(6)] for n in range(10)]\n",
    "\n",
    "my_list"
   ]
  },
  {
   "cell_type": "markdown",
   "metadata": {},
   "source": [
    "* Produce a histogram from the values\n",
    "\n",
    "    Then, propagate through the list of 60 integer elements and count how often each value exists within the nested list. A \n",
    "    dictionary of the type {value : frequency, value : frequency, value : fre-quency, …} will be an ideal structure to take up \n",
    "    the results."
   ]
  },
  {
   "cell_type": "code",
   "execution_count": 38,
   "metadata": {},
   "outputs": [
    {
     "name": "stdout",
     "output_type": "stream",
     "text": [
      "{0: 3, 1: 2, 2: 4, 3: 4, 4: 6, 5: 2, 6: 1, 7: 2, 8: 7, 9: 8, 10: 3, 11: 3, 12: 4, 13: 3, 14: 2, 15: 6}\n"
     ]
    }
   ],
   "source": [
    "unique, counts = np.unique(my_list, return_counts=True)\n",
    "dictionary = dict(zip(unique, counts))\n",
    "print(dictionary)"
   ]
  },
  {
   "cell_type": "markdown",
   "metadata": {},
   "source": [
    "* Display the histogram\n",
    "    \n",
    "    Produce a simple but well-formatted screen output to display the histogram. \n",
    "    \n",
    "    It will be up to you to use a tabular form (formatted print) or, with a higher effort, in a graphic form. \n",
    "    \n",
    "    The latter will require to have a look into the package \n",
    "    \n",
    "    “Matplotlib” which provides a nearly unlimited number of graphic options. For the option of formatted print, a clever \n",
    "    shortcut is to cast the integer values with the python repr()-Operator for easy justification."
   ]
  },
  {
   "cell_type": "code",
   "execution_count": 39,
   "metadata": {},
   "outputs": [
    {
     "data": {
      "text/plain": [
       "(array([ 5,  4, 10,  2,  3,  7, 11,  3,  7,  8], dtype=int64),\n",
       " array([ 0. ,  1.5,  3. ,  4.5,  6. ,  7.5,  9. , 10.5, 12. , 13.5, 15. ]))"
      ]
     },
     "execution_count": 39,
     "metadata": {},
     "output_type": "execute_result"
    }
   ],
   "source": [
    "np.histogram(my_list, bins=10, range=None, normed=None, weights=None, density=None)"
   ]
  }
 ],
 "metadata": {
  "kernelspec": {
   "display_name": "Python 3",
   "language": "python",
   "name": "python3"
  },
  "language_info": {
   "codemirror_mode": {
    "name": "ipython",
    "version": 3
   },
   "file_extension": ".py",
   "mimetype": "text/x-python",
   "name": "python",
   "nbconvert_exporter": "python",
   "pygments_lexer": "ipython3",
   "version": "3.7.4"
  }
 },
 "nbformat": 4,
 "nbformat_minor": 2
}
