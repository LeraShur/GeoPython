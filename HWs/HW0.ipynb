{
 "cells": [
  {
   "cell_type": "markdown",
   "metadata": {},
   "source": [
    "25.10.2019"
   ]
  },
  {
   "cell_type": "markdown",
   "metadata": {},
   "source": [
    "**Homework Exercise - Topic 0: Elementary operations using standard Python lists**"
   ]
  },
  {
   "cell_type": "code",
   "execution_count": 4,
   "metadata": {},
   "outputs": [],
   "source": [
    "#Topic 0: Elementary operations using standard Python lists\n",
    "# access to random class\n",
    "import random as rndm"
   ]
  },
  {
   "cell_type": "markdown",
   "metadata": {},
   "source": [
    "* Create two simple lists each consisting of 20 elements and each to be filled with randomly distributed integer values between 0 and 9\n",
    "    \n",
    "    Use a Python random number generator to fill the list."
   ]
  },
  {
   "cell_type": "code",
   "execution_count": 5,
   "metadata": {},
   "outputs": [
    {
     "name": "stdout",
     "output_type": "stream",
     "text": [
      "[2, 1, 7, 0, 1, 6, 8, 1, 7, 2, 6, 7, 7, 8, 4, 2, 6, 2, 0, 2] \n",
      " [0, 2, 5, 5, 5, 1, 4, 8, 4, 5, 5, 5, 8, 6, 2, 4, 7, 5, 5, 6]\n"
     ]
    }
   ],
   "source": [
    "# *randint* returns random integers from low (inclusive) to high (exclusive).\n",
    "a = [rndm.randint(0,9) for i in range(20)]\n",
    "b = [rndm.randint(0,9) for i in range(20)]\n",
    "\n",
    "print(a, \"\\n\", b)"
   ]
  },
  {
   "cell_type": "markdown",
   "metadata": {},
   "source": [
    "* Derive some basic descriptors for each list. \n",
    "    \n",
    "    Calculate the length, the minimum and maximum of the two lists using standard list operators and store the results in new \n",
    "    variables."
   ]
  },
  {
   "cell_type": "code",
   "execution_count": 6,
   "metadata": {},
   "outputs": [
    {
     "name": "stdout",
     "output_type": "stream",
     "text": [
      "Length of a = 20 Minimum of a = 0 Maximum of a = 8\n",
      "Length of b = 20 Minimum of b = 0 Maximum of b = 8\n"
     ]
    }
   ],
   "source": [
    "#Summary of the lists\n",
    "a_len = len(a)\n",
    "a_min = min(a)\n",
    "a_max = max(a)\n",
    "print (\"Length of a =\", a_len, \"Minimum of a =\", a_min, \"Maximum of a =\", a_max)\n",
    "\n",
    "b_len = len(b)\n",
    "b_min = min(b)\n",
    "b_max = max(b)\n",
    "print (\"Length of b =\", b_len, \"Minimum of b =\", b_min, \"Maximum of b =\", b_max)"
   ]
  },
  {
   "cell_type": "markdown",
   "metadata": {},
   "source": [
    "* Fuse the two lists\n",
    "    \n",
    "    Fuse the two lists into one list of 40 elements."
   ]
  },
  {
   "cell_type": "code",
   "execution_count": 7,
   "metadata": {},
   "outputs": [
    {
     "name": "stdout",
     "output_type": "stream",
     "text": [
      "[2, 1, 7, 0, 1, 6, 8, 1, 7, 2, 6, 7, 7, 8, 4, 2, 6, 2, 0, 2, 0, 2, 5, 5, 5, 1, 4, 8, 4, 5, 5, 5, 8, 6, 2, 4, 7, 5, 5, 6]\n"
     ]
    }
   ],
   "source": [
    "#Fuse two lists into one consists of 40 elements\n",
    "joined_list = a + b\n",
    "print (joined_list)"
   ]
  },
  {
   "cell_type": "markdown",
   "metadata": {},
   "source": [
    "* Modify the fused list and derive further descriptors\n",
    "\n",
    "    Sort the list and store one version in ascending order and another one in a descending order. Observe the difference \n",
    "    between the sorted() and the reversed() method. Whilst sorted() actually does the job and returns a new list, reversed() is \n",
    "    just returning an iterator, that reverses the access to the list from back to front. So you can use it successfully within \n",
    "    a loop operation.\n",
    "\n",
    "    Furthermore create a list of unique elements (all occurrences shall only be listed once).\n",
    "    \n",
    "    Last but not least create a list which shows the ranks of each list element (defined in ascending order) of the original \n",
    "    unsorted fused list. Ranking means that in case of multiple occurrences of a value, all equally valued elements will \n",
    "    receive the mean rank of the group: \n",
    "    \n",
    "    [1,4,2,3,2] will create a rank list like [0 ,4,1.5,3,1.5]."
   ]
  },
  {
   "cell_type": "code",
   "execution_count": 8,
   "metadata": {},
   "outputs": [
    {
     "name": "stdout",
     "output_type": "stream",
     "text": [
      "[2, 1, 7, 0, 1, 6, 8, 1, 7, 2, 6, 7, 7, 8, 4, 2, 6, 2, 0, 2]\n",
      "Ascending list: [0, 0, 0, 1, 1, 1, 1, 2, 2, 2, 2, 2, 2, 2, 4, 4, 4, 4, 5, 5, 5, 5, 5, 5, 5, 5, 6, 6, 6, 6, 6, 7, 7, 7, 7, 7, 8, 8, 8, 8]\n",
      "[2, 1, 7, 0, 1, 6, 8, 1, 7, 2, 6, 7, 7, 8, 4, 2, 6, 2, 0, 2]\n",
      "Descending list 1: [8, 8, 8, 8, 7, 7, 7, 7, 7, 6, 6, 6, 6, 6, 5, 5, 5, 5, 5, 5, 5, 5, 4, 4, 4, 4, 2, 2, 2, 2, 2, 2, 2, 1, 1, 1, 1, 0, 0, 0]\n",
      "[2, 1, 7, 0, 1, 6, 8, 1, 7, 2, 6, 7, 7, 8, 4, 2, 6, 2, 0, 2]\n",
      "Descending list 2: [0, 0, 0, 1, 1, 1, 1, 2, 2, 2, 2, 2, 2, 2, 4, 4, 4, 4, 5, 5, 5, 5, 5, 5, 5, 5, 6, 6, 6, 6, 6, 7, 7, 7, 7, 7, 8, 8, 8, 8]\n"
     ]
    }
   ],
   "source": [
    "#Sort the fused list in ascending and descending order\n",
    "print(a)\n",
    "asc_list = joined_list.sort()\n",
    "print('Ascending list:', joined_list)\n",
    "\n",
    "print(a)\n",
    "decs_list = joined_list.sort(reverse=True)\n",
    "print('Descending list 1:', joined_list)\n",
    "\n",
    "print(a)\n",
    "decs_list_1 = joined_list.reverse()\n",
    "print('Descending list 2:', joined_list)"
   ]
  },
  {
   "cell_type": "code",
   "execution_count": 9,
   "metadata": {},
   "outputs": [
    {
     "name": "stdout",
     "output_type": "stream",
     "text": [
      "[0, 1, 2, 4, 5, 6, 7, 8]\n"
     ]
    }
   ],
   "source": [
    "#list of unique elements (all occurrences shall only be listed once)\n",
    "res = []\n",
    "for i in joined_list:\n",
    "    if i not in res:\n",
    "        res.append(i)\n",
    "print(res)"
   ]
  },
  {
   "cell_type": "code",
   "execution_count": 13,
   "metadata": {},
   "outputs": [
    {
     "name": "stdout",
     "output_type": "stream",
     "text": [
      "[2, 1, 7, 0, 1, 6, 8, 1, 7, 2, 6, 7, 7, 8, 4, 2, 6, 2, 0, 2]\n",
      "[0, 1, 2, 4, 6, 7, 8]\n",
      "[0, 1, 2, 4, 6, 7, 8]\n",
      "[2, 1, 5, 0, 1, 4, 6, 1, 5, 2, 4, 5, 5, 6, 3, 2, 4, 2, 0, 2]\n"
     ]
    }
   ],
   "source": [
    "#list which shows the ranks of each list element (defined in ascending order) of the original unsorted fused list\n",
    "print(a)\n",
    "\n",
    "# Make a list of unique elements\n",
    "unique = list(set(a))\n",
    "print(unique)\n",
    "\n",
    "#Sort\n",
    "unique.sort()\n",
    "print(unique)\n",
    "\n",
    "#New list with appended indices to a\n",
    "rank = []\n",
    "\n",
    "#append index to unique value\n",
    "for n in a:\n",
    "    rank.append(unique.index(n))\n",
    "print(rank)"
   ]
  }
 ],
 "metadata": {
  "kernelspec": {
   "display_name": "Python 3",
   "language": "python",
   "name": "python3"
  }
 },
 "nbformat": 4,
 "nbformat_minor": 2
}
