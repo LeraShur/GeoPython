{
 "cells": [
  {
   "cell_type": "markdown",
   "metadata": {},
   "source": [
    "### Commented Code – Pure Python\n",
    "#### Example One\n",
    "\n",
    "*Purpose:*\n",
    "* A program to calculate prime numbers from 2 to n to be stored and retrieved in a dictionary.\n",
    "\n",
    "\n",
    "*Structure of Python Code:*\n",
    "* General program descriptionand Python reference (2.x or 3.x)\n",
    "* Package imports (if needed for interpretation further down)\n",
    "* Classes and Functions\n",
    "* (MainClass) or Process Statements"
   ]
  },
  {
   "cell_type": "markdown",
   "metadata": {},
   "source": [
    "**A sketch solution, a verbal description of what the programme should do helps in program design**\n",
    "\n",
    "Step 0: Define an upper limit of prime number search\n",
    "\n",
    "Step 1: Instantiate a nucleus of the dictionary with the first prime number ’p’ inscribed. pn= {2:’p’}\n",
    "\n",
    "Step 2: Start a loop from 2+1 until upper limit of prime number search is reached. Set loop increment to 2 (only odd numbers can be prime numbers)\n",
    "\n",
    "Step 3: We extend the dictionary with the actual loop variable\n",
    "\n",
    "Step 4: We divide the value of the loop variable [3,…,n] by thepreviously detected prime numbers\n",
    "\n",
    "Step 5: In step 4 one can reduce the number of divisions to all numbers smaller or equal sqrt(n)\n",
    "\n",
    "Step 5: Once the first remainder-free division can be found, we delete the last entry (step 3) to the dictionary\n",
    "\n",
    "Step 6: Print the contents of the dictionary = the prime numbers to the screen in ascending order, once the loop is exhausted"
   ]
  },
  {
   "cell_type": "code",
   "execution_count": 2,
   "metadata": {},
   "outputs": [],
   "source": [
    "'''Calculate Prime Numbers from 2 to a maximum number\n",
    "Store the prime numbers in a dictionary and\n",
    "print the results in a stored order\n",
    "Coding for Python 3.7\n",
    "Example Programme 1\n",
    "Version January 24\n",
    "fir executive use in GIS-programming class '''\n",
    "\n",
    "#imports\n",
    "\n",
    "#functions\n",
    "\n",
    "#user entries\n",
    "nmax = 100"
   ]
  },
  {
   "cell_type": "code",
   "execution_count": 12,
   "metadata": {},
   "outputs": [
    {
     "name": "stdout",
     "output_type": "stream",
     "text": [
      "2: p\n",
      "3: p\n",
      "5: p\n",
      "7: p\n",
      "11: p\n",
      "13: p\n",
      "17: p\n",
      "19: p\n",
      "23: p\n",
      "29: p\n",
      "31: p\n",
      "37: p\n",
      "41: p\n",
      "43: p\n",
      "47: p\n",
      "53: p\n",
      "59: p\n",
      "61: p\n",
      "67: p\n",
      "71: p\n",
      "73: p\n",
      "79: p\n",
      "83: p\n",
      "89: p\n",
      "97: p\n"
     ]
    }
   ],
   "source": [
    "#calculate the prime numbers and fill dictionary\n",
    "\n",
    "#start an initial prime number dictionary (one key/item only)\n",
    "pn = {2:'p'}\n",
    "\n",
    "#perform a loop from 3 to a maximum number nmax\n",
    "for n in range(3, nmax, 2):\n",
    "    #add new entry to prime number dictionary\n",
    "    pn.update({n: 'p'})\n",
    "    \n",
    "    #divide by all previously stored prime numbers < sqrt(n)\n",
    "    divs = [i for i in dict.keys(pn) if i <= n**0.5]\n",
    "    \n",
    "    for div in divs:\n",
    "        if (n%div) == 0:\n",
    "            #remove dictionary entry if division gives no reminder\n",
    "            del pn[n]\n",
    "            break\n",
    "    \n",
    "#create a stored output of the dictionary\n",
    "for key in sorted(pn):\n",
    "    print (\"%i: %s\" % (key, pn[key]))"
   ]
  },
  {
   "cell_type": "markdown",
   "metadata": {},
   "source": [
    "**Lists**"
   ]
  },
  {
   "cell_type": "code",
   "execution_count": 15,
   "metadata": {},
   "outputs": [
    {
     "name": "stdout",
     "output_type": "stream",
     "text": [
      "List classnmbs: \n",
      " [1, 2, 3, 4, 5, 6, 7, 8, 9, 10, 11, 12, 13, 14, 15, 16, 17, 18, 19, 20, 21, 22, 23, 24, 25, 26, 27, 28, 29, 30, 31, 32, 33, 34, 35, 36, 37, 38, 39, 40, 41, 42, 43, 44, 45, 46, 47, 48, 49] \n",
      "\n",
      "List a: \n",
      " [0, 1, 2, 3, 4] \n",
      "\n",
      "List b: \n",
      " [3, 4, 5, 6, 7] \n",
      "\n",
      "List c: \n",
      " [3, 4, 5, 6, 7] \n",
      "\n"
     ]
    }
   ],
   "source": [
    "import math\n",
    "import random\n",
    "classnmbs = range(1, 50)\n",
    "print(\"List classnmbs: \\n\", list(classnmbs), \"\\n\")\n",
    "\n",
    "#List generation with just max number\n",
    "a = range(5)\n",
    "print(\"List a: \\n\", list(a), \"\\n\")\n",
    "\n",
    "#List generation with min and non-uncluded max number\n",
    "b = range(3,8)\n",
    "print(\"List b: \\n\", list(b), \"\\n\")\n",
    "\n",
    "#List generation with min, max, and step\n",
    "c = range(3,8,2)\n",
    "print(\"List c: \\n\", list(b), \"\\n\")"
   ]
  },
  {
   "cell_type": "markdown",
   "metadata": {},
   "source": [
    "**List subsets and nested lists**"
   ]
  },
  {
   "cell_type": "code",
   "execution_count": 17,
   "metadata": {},
   "outputs": [
    {
     "name": "stdout",
     "output_type": "stream",
     "text": [
      "[4, 5, 6]\n",
      "6\n"
     ]
    }
   ],
   "source": [
    "lst= [[1,2,3],[4,5,6],[7,8,9]]\n",
    "\n",
    "#return first nested list\n",
    "print(lst[1])\n",
    "\n",
    "#return second value in first nested list\n",
    "print(lst[1][2])"
   ]
  },
  {
   "cell_type": "code",
   "execution_count": 19,
   "metadata": {},
   "outputs": [
    {
     "name": "stdout",
     "output_type": "stream",
     "text": [
      "[1, 2, 3, 4]\n"
     ]
    }
   ],
   "source": [
    "#sort list\n",
    "lst= [2,1,3,4]\n",
    "sortedList = sorted(lst)\n",
    "print(sortedList)"
   ]
  },
  {
   "cell_type": "code",
   "execution_count": 22,
   "metadata": {},
   "outputs": [
    {
     "name": "stdout",
     "output_type": "stream",
     "text": [
      "[1, 2, 3, 4, 5, 6, 7, 8]\n"
     ]
    }
   ],
   "source": [
    "#add values to list\n",
    "lst= [1,2,3,4]\n",
    "lst.extend([5,6,7,8]) #adds new items to the existing lst:\n",
    "print(lst)"
   ]
  },
  {
   "cell_type": "markdown",
   "metadata": {},
   "source": [
    "How to change all occurrences of a specific list item (c.f. each 3 into 7)?\n",
    "    by list comprehension:"
   ]
  },
  {
   "cell_type": "code",
   "execution_count": 26,
   "metadata": {},
   "outputs": [
    {
     "name": "stdout",
     "output_type": "stream",
     "text": [
      "[1, 7, 2, 5, 2, 7, 7, 6]\n"
     ]
    }
   ],
   "source": [
    "lst= [1,3,2,5,2,3,3,6]\n",
    "#if l is not equal to 3 then leave l, otherwise give 7 for each l in lst\n",
    "lst= [l if l != 3 \n",
    "      else 7 for l in lst]\n",
    "print(list(lst))"
   ]
  },
  {
   "cell_type": "markdown",
   "metadata": {},
   "source": [
    "How to change all occurrences in a nested list (c.f. each 3 into 7)?\n",
    "again by a nested list comprehension:"
   ]
  },
  {
   "cell_type": "code",
   "execution_count": 29,
   "metadata": {},
   "outputs": [
    {
     "name": "stdout",
     "output_type": "stream",
     "text": [
      "[[1, 2, 7], [7, 4, 5], [7, 7]]\n"
     ]
    }
   ],
   "source": [
    "lst= [[1,2,3],[3,4,5],[3,3]]\n",
    "lst= [[l if l!=3 \n",
    "       else 7 for l in sublst] for sublst in lst]\n",
    "print(list(lst))"
   ]
  },
  {
   "cell_type": "markdown",
   "metadata": {},
   "source": [
    "How to break up a list stored as a string into a list with individual items:"
   ]
  },
  {
   "cell_type": "code",
   "execution_count": 30,
   "metadata": {},
   "outputs": [
    {
     "name": "stdout",
     "output_type": "stream",
     "text": [
      "['0', '1', '2', '3', '-1', '4', '7', '6', '5', '-1', '0', '4', '5', '1', '-1']\n"
     ]
    }
   ],
   "source": [
    "orig= '0 1 2 3 -1 4 7 6 5 -1 0 4 5 1 -1 '\n",
    "orig2lst = orig.split()\n",
    "print(orig2lst)"
   ]
  },
  {
   "cell_type": "markdown",
   "metadata": {},
   "source": [
    "How to subdivide the list into a nested list using the separator (in this case ”-1”)."
   ]
  },
  {
   "cell_type": "code",
   "execution_count": 31,
   "metadata": {},
   "outputs": [
    {
     "data": {
      "text/plain": [
       "'-1'"
      ]
     },
     "execution_count": 31,
     "metadata": {},
     "output_type": "execute_result"
    }
   ],
   "source": [
    "orig2lst.pop()"
   ]
  },
  {
   "cell_type": "markdown",
   "metadata": {},
   "source": [
    "**Dictionaries {}:**"
   ]
  },
  {
   "cell_type": "markdown",
   "metadata": {},
   "source": [
    "a key is mapped to an object"
   ]
  },
  {
   "cell_type": "markdown",
   "metadata": {},
   "source": [
    "**Sets {}:**"
   ]
  },
  {
   "cell_type": "markdown",
   "metadata": {},
   "source": [
    "similar to lists, but contain unique items (no duplication), are unordered, not indexed and consequently not slicable."
   ]
  },
  {
   "cell_type": "code",
   "execution_count": 33,
   "metadata": {},
   "outputs": [
    {
     "name": "stdout",
     "output_type": "stream",
     "text": [
      "{2, 3, 4, 5, 6, 7, 8, 9, 10, 11, 12, 13, 14, 15, 16, 17, 18, 19, 20, 21, 22, 23, 24, 25, 26, 27, 28, 29, 30, 31, 32, 33, 34, 35, 36, 37, 38, 39, 40, 41, 42, 43, 44, 45, 46, 47, 48, 49}\n"
     ]
    }
   ],
   "source": [
    "set1 = set(range(2,50))\n",
    "print(set1)"
   ]
  },
  {
   "cell_type": "code",
   "execution_count": null,
   "metadata": {},
   "outputs": [],
   "source": []
  },
  {
   "cell_type": "code",
   "execution_count": null,
   "metadata": {},
   "outputs": [],
   "source": []
  }
 ],
 "metadata": {
  "kernelspec": {
   "display_name": "Python 3",
   "language": "python",
   "name": "python3"
  },
  "language_info": {
   "codemirror_mode": {
    "name": "ipython",
    "version": 3
   },
   "file_extension": ".py",
   "mimetype": "text/x-python",
   "name": "python",
   "nbconvert_exporter": "python",
   "pygments_lexer": "ipython3",
   "version": "3.7.3"
  }
 },
 "nbformat": 4,
 "nbformat_minor": 2
}
