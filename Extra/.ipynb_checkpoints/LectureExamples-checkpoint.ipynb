{
 "cells": [
  {
   "cell_type": "markdown",
   "metadata": {},
   "source": [
    "### Commented Code – Pure Python\n",
    "#### Example One\n",
    "\n",
    "*Purpose:*\n",
    "* A program to calculate prime numbers from 2 to n to be stored and retrieved in a dictionary.\n",
    "\n",
    "\n",
    "*Structure of Python Code:*\n",
    "* General program descriptionand Python reference (2.x or 3.x)\n",
    "* Package imports (if needed for interpretation further down)\n",
    "* Classes and Functions\n",
    "* (MainClass) or Process Statements"
   ]
  },
  {
   "cell_type": "markdown",
   "metadata": {},
   "source": [
    "**A sketch solution, a verbal description of what the programme should do helps in program design**\n",
    "\n",
    "Step 0: Define an upper limit of prime number search\n",
    "\n",
    "Step 1: Instantiate a nucleus of the dictionary with the first prime number ’p’ inscribed. pn= {2:’p’}\n",
    "\n",
    "Step 2: Start a loop from 2+1 until upper limit of prime number search is reached. Set loop increment to 2 (only odd numbers can be prime numbers)\n",
    "\n",
    "Step 3: We extend the dictionary with the actual loop variable\n",
    "\n",
    "Step 4: We divide the value of the loop variable [3,…,n] by thepreviously detected prime numbers\n",
    "\n",
    "Step 5: In step 4 one can reduce the number of divisions to all numbers smaller or equal sqrt(n)\n",
    "\n",
    "Step 5: Once the first remainder-free division can be found, we delete the last entry (step 3) to the dictionary\n",
    "\n",
    "Step 6: Print the contents of the dictionary = the prime numbers to the screen in ascending order, once the loop is exhausted"
   ]
  },
  {
   "cell_type": "code",
   "execution_count": 2,
   "metadata": {},
   "outputs": [],
   "source": [
    "'''Calculate Prime Numbers from 2 to a maximum number\n",
    "Store the prime numbers in a dictionary and\n",
    "print the results in a stored order\n",
    "Coding for Python 3.7\n",
    "Example Programme 1\n",
    "Version January 24\n",
    "fir executive use in GIS-programming class '''\n",
    "\n",
    "#imports\n",
    "\n",
    "#functions\n",
    "\n",
    "#user entries\n",
    "nmax = 100"
   ]
  },
  {
   "cell_type": "code",
   "execution_count": 12,
   "metadata": {},
   "outputs": [
    {
     "name": "stdout",
     "output_type": "stream",
     "text": [
      "2: p\n",
      "3: p\n",
      "5: p\n",
      "7: p\n",
      "11: p\n",
      "13: p\n",
      "17: p\n",
      "19: p\n",
      "23: p\n",
      "29: p\n",
      "31: p\n",
      "37: p\n",
      "41: p\n",
      "43: p\n",
      "47: p\n",
      "53: p\n",
      "59: p\n",
      "61: p\n",
      "67: p\n",
      "71: p\n",
      "73: p\n",
      "79: p\n",
      "83: p\n",
      "89: p\n",
      "97: p\n"
     ]
    }
   ],
   "source": [
    "#calculate the prime numbers and fill dictionary\n",
    "\n",
    "#start an initial prime number dictionary (one key/item only)\n",
    "pn = {2:'p'}\n",
    "\n",
    "#perform a loop from 3 to a maximum number nmax\n",
    "for n in range(3, nmax, 2):\n",
    "    #add new entry to prime number dictionary\n",
    "    pn.update({n: 'p'})\n",
    "    \n",
    "    #divide by all previously stored prime numbers < sqrt(n)\n",
    "    divs = [i for i in dict.keys(pn) if i <= n**0.5]\n",
    "    \n",
    "    for div in divs:\n",
    "        if (n%div) == 0:\n",
    "            #remove dictionary entry if division gives no reminder\n",
    "            del pn[n]\n",
    "            break\n",
    "    \n",
    "#create a stored output of the dictionary\n",
    "for key in sorted(pn):\n",
    "    print (\"%i: %s\" % (key, pn[key]))"
   ]
  },
  {
   "cell_type": "markdown",
   "metadata": {},
   "source": [
    "**Lists"
   ]
  },
  {
   "cell_type": "code",
   "execution_count": 8,
   "metadata": {},
   "outputs": [
    {
     "name": "stdout",
     "output_type": "stream",
     "text": [
      "range(1, 50)\n",
      "range(0, 5)\n",
      "range(3, 8)\n"
     ]
    }
   ],
   "source": [
    "import math\n",
    "import random\n",
    "classnmbs = range(1,50)\n",
    "print(str(classnmbs))\n",
    "\n",
    "#List generation\n",
    "a = range(5)\n",
    "print(str(a))\n",
    "\n",
    "b = range(3,8)\n",
    "print(str(b))"
   ]
  },
  {
   "cell_type": "code",
   "execution_count": null,
   "metadata": {},
   "outputs": [],
   "source": []
  }
 ],
 "metadata": {
  "kernelspec": {
   "display_name": "Python 3",
   "language": "python",
   "name": "python3"
  },
  "language_info": {
   "codemirror_mode": {
    "name": "ipython",
    "version": 3
   },
   "file_extension": ".py",
   "mimetype": "text/x-python",
   "name": "python",
   "nbconvert_exporter": "python",
   "pygments_lexer": "ipython3",
   "version": "3.7.3"
  }
 },
 "nbformat": 4,
 "nbformat_minor": 2
}
