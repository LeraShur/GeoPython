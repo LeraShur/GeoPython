{
 "cells": [
  {
   "cell_type": "markdown",
   "metadata": {},
   "source": [
    "### Commented Code – Pure Python\n",
    "#### Example One\n",
    "\n",
    "*Purpose:*\n",
    "* A program to calculate prime numbers from 2 to n to be stored and retrieved in a dictionary.\n",
    "\n",
    "\n",
    "*Structure of Python Code:*\n",
    "* General program descriptionand Python reference (2.x or 3.x)\n",
    "* Package imports (if needed for interpretation further down)\n",
    "* Classes and Functions\n",
    "* (MainClass) or Process Statements"
   ]
  },
  {
   "cell_type": "markdown",
   "metadata": {},
   "source": [
    "**A sketch solution, a verbal description of what the programme should do helps in program design**\n",
    "\n",
    "Step 0: Define an upper limit of prime number search\n",
    "\n",
    "Step 1: Instantiate a nucleus of the dictionary with the first prime number ’p’ inscribed. pn= {2:’p’}\n",
    "\n",
    "Step 2: Start a loop from 2+1 until upper limit of prime number search is reached. Set loop increment to 2 (only odd numbers can be prime numbers)\n",
    "\n",
    "Step 3: We extend the dictionary with the actual loop variable\n",
    "\n",
    "Step 4: We divide the value of the loop variable [3,…,n] by thepreviously detected prime numbers\n",
    "\n",
    "Step 5: In step 4 one can reduce the number of divisions to all numbers smaller or equal sqrt(n)\n",
    "\n",
    "Step 5: Once the first remainder-free division can be found, we delete the last entry (step 3) to the dictionary\n",
    "\n",
    "Step 6: Print the contents of the dictionary = the prime numbers to the screen in ascending order, once the loop is exhausted"
   ]
  },
  {
   "cell_type": "code",
   "execution_count": 2,
   "metadata": {},
   "outputs": [],
   "source": [
    "'''Calculate Prime Numbers from 2 to a maximum number\n",
    "Store the prime numbers in a dictionary and\n",
    "print the results in a stored order\n",
    "Coding for Python 3.7\n",
    "Example Programme 1\n",
    "Version January 24\n",
    "fir executive use in GIS-programming class '''\n",
    "\n",
    "#imports\n",
    "\n",
    "#functions\n",
    "\n",
    "#user entries\n",
    "nmax = 100"
   ]
  },
  {
   "cell_type": "code",
   "execution_count": 12,
   "metadata": {},
   "outputs": [
    {
     "name": "stdout",
     "output_type": "stream",
     "text": [
      "2: p\n",
      "3: p\n",
      "5: p\n",
      "7: p\n",
      "11: p\n",
      "13: p\n",
      "17: p\n",
      "19: p\n",
      "23: p\n",
      "29: p\n",
      "31: p\n",
      "37: p\n",
      "41: p\n",
      "43: p\n",
      "47: p\n",
      "53: p\n",
      "59: p\n",
      "61: p\n",
      "67: p\n",
      "71: p\n",
      "73: p\n",
      "79: p\n",
      "83: p\n",
      "89: p\n",
      "97: p\n"
     ]
    }
   ],
   "source": [
    "#calculate the prime numbers and fill dictionary\n",
    "\n",
    "#start an initial prime number dictionary (one key/item only)\n",
    "pn = {2:'p'}\n",
    "\n",
    "#perform a loop from 3 to a maximum number nmax\n",
    "for n in range(3, nmax, 2):\n",
    "    #add new entry to prime number dictionary\n",
    "    pn.update({n: 'p'})\n",
    "    \n",
    "    #divide by all previously stored prime numbers < sqrt(n)\n",
    "    divs = [i for i in dict.keys(pn) if i <= n**0.5]\n",
    "    \n",
    "    for div in divs:\n",
    "        if (n%div) == 0:\n",
    "            #remove dictionary entry if division gives no reminder\n",
    "            del pn[n]\n",
    "            break\n",
    "    \n",
    "#create a stored output of the dictionary\n",
    "for key in sorted(pn):\n",
    "    print (\"%i: %s\" % (key, pn[key]))"
   ]
  },
  {
   "cell_type": "markdown",
   "metadata": {},
   "source": [
    "**Lists**"
   ]
  },
  {
   "cell_type": "code",
   "execution_count": 15,
   "metadata": {},
   "outputs": [
    {
     "name": "stdout",
     "output_type": "stream",
     "text": [
      "List classnmbs: \n",
      " [1, 2, 3, 4, 5, 6, 7, 8, 9, 10, 11, 12, 13, 14, 15, 16, 17, 18, 19, 20, 21, 22, 23, 24, 25, 26, 27, 28, 29, 30, 31, 32, 33, 34, 35, 36, 37, 38, 39, 40, 41, 42, 43, 44, 45, 46, 47, 48, 49] \n",
      "\n",
      "List a: \n",
      " [0, 1, 2, 3, 4] \n",
      "\n",
      "List b: \n",
      " [3, 4, 5, 6, 7] \n",
      "\n",
      "List c: \n",
      " [3, 4, 5, 6, 7] \n",
      "\n"
     ]
    }
   ],
   "source": [
    "import math\n",
    "import random\n",
    "classnmbs = range(1, 50)\n",
    "print(\"List classnmbs: \\n\", list(classnmbs), \"\\n\")\n",
    "\n",
    "#List generation with just max number\n",
    "a = range(5)\n",
    "print(\"List a: \\n\", list(a), \"\\n\")\n",
    "\n",
    "#List generation with min and non-uncluded max number\n",
    "b = range(3,8)\n",
    "print(\"List b: \\n\", list(b), \"\\n\")\n",
    "\n",
    "#List generation with min, max, and step\n",
    "c = range(3,8,2)\n",
    "print(\"List c: \\n\", list(b), \"\\n\")"
   ]
  },
  {
   "cell_type": "markdown",
   "metadata": {},
   "source": [
    "**List subsets and nested lists**"
   ]
  },
  {
   "cell_type": "code",
   "execution_count": 17,
   "metadata": {},
   "outputs": [
    {
     "name": "stdout",
     "output_type": "stream",
     "text": [
      "[4, 5, 6]\n",
      "6\n"
     ]
    }
   ],
   "source": [
    "lst= [[1,2,3],[4,5,6],[7,8,9]]\n",
    "\n",
    "#return first nested list\n",
    "print(lst[1])\n",
    "\n",
    "#return second value in first nested list\n",
    "print(lst[1][2])"
   ]
  },
  {
   "cell_type": "code",
   "execution_count": 19,
   "metadata": {},
   "outputs": [
    {
     "name": "stdout",
     "output_type": "stream",
     "text": [
      "[1, 2, 3, 4]\n"
     ]
    }
   ],
   "source": [
    "#sort list\n",
    "lst= [2,1,3,4]\n",
    "sortedList = sorted(lst)\n",
    "print(sortedList)"
   ]
  },
  {
   "cell_type": "code",
   "execution_count": 22,
   "metadata": {},
   "outputs": [
    {
     "name": "stdout",
     "output_type": "stream",
     "text": [
      "[1, 2, 3, 4, 5, 6, 7, 8]\n"
     ]
    }
   ],
   "source": [
    "#add values to list\n",
    "lst= [1,2,3,4]\n",
    "lst.extend([5,6,7,8]) #adds new items to the existing lst:\n",
    "print(lst)"
   ]
  },
  {
   "cell_type": "markdown",
   "metadata": {},
   "source": [
    "How to change all occurrences of a specific list item (c.f. each 3 into 7)?\n",
    "    by list comprehension:"
   ]
  },
  {
   "cell_type": "code",
   "execution_count": 26,
   "metadata": {},
   "outputs": [
    {
     "name": "stdout",
     "output_type": "stream",
     "text": [
      "[1, 7, 2, 5, 2, 7, 7, 6]\n"
     ]
    }
   ],
   "source": [
    "lst= [1,3,2,5,2,3,3,6]\n",
    "#if l is not equal to 3 then leave l, otherwise give 7 for each l in lst\n",
    "lst= [l if l != 3 \n",
    "      else 7 for l in lst]\n",
    "print(list(lst))"
   ]
  },
  {
   "cell_type": "markdown",
   "metadata": {},
   "source": [
    "How to change all occurrences in a nested list (c.f. each 3 into 7)?\n",
    "again by a nested list comprehension:"
   ]
  },
  {
   "cell_type": "code",
   "execution_count": 29,
   "metadata": {},
   "outputs": [
    {
     "name": "stdout",
     "output_type": "stream",
     "text": [
      "[[1, 2, 7], [7, 4, 5], [7, 7]]\n"
     ]
    }
   ],
   "source": [
    "lst= [[1,2,3],[3,4,5],[3,3]]\n",
    "lst= [[l if l!=3 \n",
    "       else 7 for l in sublst] for sublst in lst]\n",
    "print(list(lst))"
   ]
  },
  {
   "cell_type": "markdown",
   "metadata": {},
   "source": [
    "How to break up a list stored as a string into a list with individual items:"
   ]
  },
  {
   "cell_type": "code",
   "execution_count": 30,
   "metadata": {},
   "outputs": [
    {
     "name": "stdout",
     "output_type": "stream",
     "text": [
      "['0', '1', '2', '3', '-1', '4', '7', '6', '5', '-1', '0', '4', '5', '1', '-1']\n"
     ]
    }
   ],
   "source": [
    "orig= '0 1 2 3 -1 4 7 6 5 -1 0 4 5 1 -1 '\n",
    "orig2lst = orig.split()\n",
    "print(orig2lst)"
   ]
  },
  {
   "cell_type": "markdown",
   "metadata": {},
   "source": [
    "How to subdivide the list into a nested list using the separator (in this case ”-1”)."
   ]
  },
  {
   "cell_type": "code",
   "execution_count": 31,
   "metadata": {},
   "outputs": [
    {
     "data": {
      "text/plain": [
       "'-1'"
      ]
     },
     "execution_count": 31,
     "metadata": {},
     "output_type": "execute_result"
    }
   ],
   "source": [
    "orig2lst.pop()"
   ]
  },
  {
   "cell_type": "markdown",
   "metadata": {},
   "source": [
    "**Dictionaries {}:**"
   ]
  },
  {
   "cell_type": "markdown",
   "metadata": {},
   "source": [
    "a key is mapped to an object"
   ]
  },
  {
   "cell_type": "markdown",
   "metadata": {},
   "source": [
    "**Sets {}:**"
   ]
  },
  {
   "cell_type": "markdown",
   "metadata": {},
   "source": [
    "similar to lists, but contain unique items (no duplication), are unordered, not indexed and consequently not slicable."
   ]
  },
  {
   "cell_type": "code",
   "execution_count": 4,
   "metadata": {},
   "outputs": [
    {
     "name": "stdout",
     "output_type": "stream",
     "text": [
      "{2, 3, 4, 5, 6, 7, 8, 9, 10, 11, 12, 13, 14, 15, 16, 17, 18, 19, 20, 21, 22, 23, 24, 25, 26, 27, 28, 29, 30, 31, 32, 33, 34, 35, 36, 37, 38, 39, 40, 41, 42, 43, 44, 45, 46, 47, 48, 49}\n"
     ]
    }
   ],
   "source": [
    "set1 = set(range(2,50))\n",
    "print(set1)"
   ]
  },
  {
   "cell_type": "markdown",
   "metadata": {},
   "source": [
    "How to remove repeated values in set1 and set2 from set1?"
   ]
  },
  {
   "cell_type": "code",
   "execution_count": 5,
   "metadata": {},
   "outputs": [
    {
     "name": "stdout",
     "output_type": "stream",
     "text": [
      "{3, 4, 5, 6, 7, 8, 9, 10, 11, 12, 13, 14, 15, 16, 17, 18, 19, 20, 21, 22, 23, 24, 25, 26, 27, 28, 29, 30, 31, 32, 33, 34, 35, 36, 37, 38, 39}\n"
     ]
    }
   ],
   "source": [
    "set2 = set(range(3, 40))\n",
    "print(set2)"
   ]
  },
  {
   "cell_type": "code",
   "execution_count": 6,
   "metadata": {},
   "outputs": [
    {
     "name": "stdout",
     "output_type": "stream",
     "text": [
      "[2, 40, 41, 42, 43, 44, 45, 46, 47, 48, 49]\n"
     ]
    }
   ],
   "source": [
    "dif = list(set1 -set2)\n",
    "print(list(dif))"
   ]
  },
  {
   "cell_type": "markdown",
   "metadata": {},
   "source": [
    "How to combine each record in set1 with each record in set2?"
   ]
  },
  {
   "cell_type": "code",
   "execution_count": 11,
   "metadata": {
    "scrolled": true
   },
   "outputs": [
    {
     "name": "stdout",
     "output_type": "stream",
     "text": [
      "[(2, 3), (3, 4), (4, 5), (5, 6), (6, 7), (7, 8), (8, 9), (9, 10), (10, 11), (11, 12), (12, 13), (13, 14), (14, 15), (15, 16), (16, 17), (17, 18), (18, 19), (19, 20), (20, 21), (21, 22), (22, 23), (23, 24), (24, 25), (25, 26), (26, 27), (27, 28), (28, 29), (29, 30), (30, 31), (31, 32), (32, 33), (33, 34), (34, 35), (35, 36), (36, 37), (37, 38), (38, 39)]\n"
     ]
    }
   ],
   "source": [
    "set3 = zip(set1, set2)\n",
    "print(list(set3))"
   ]
  },
  {
   "cell_type": "markdown",
   "metadata": {},
   "source": [
    "**Sequences**"
   ]
  },
  {
   "cell_type": "markdown",
   "metadata": {},
   "source": [
    "is no data type on its own (!), it is just a class of data types supporting identical operations. \n",
    "Sequence types are:\n",
    "* strings str() also including unicodestrings, \n",
    "* lists [], \n",
    "* tuples (), \n",
    "* xrange() as a sequence generator"
   ]
  },
  {
   "cell_type": "code",
   "execution_count": 13,
   "metadata": {},
   "outputs": [
    {
     "data": {
      "text/plain": [
       "True"
      ]
     },
     "execution_count": 13,
     "metadata": {},
     "output_type": "execute_result"
    }
   ],
   "source": [
    "# Boolean result\n",
    "4 not in range(1,11,2)"
   ]
  },
  {
   "cell_type": "markdown",
   "metadata": {},
   "source": [
    "**Functions *def:***"
   ]
  },
  {
   "cell_type": "markdown",
   "metadata": {},
   "source": [
    "consist of an identifier (a function name), function parameters and an optional return value. Functions are a step towards more code legibility and code recycling."
   ]
  },
  {
   "cell_type": "code",
   "execution_count": 14,
   "metadata": {},
   "outputs": [],
   "source": [
    "def newFun(ixIn,strIn): # test input parameter\n",
    "    if not (isinstance(ixIn, int) and isinstance(strIn, str)):\n",
    "        return \"\"\n",
    "    elif (ixIn < 0) or (ixIn >= len(strIn)):\n",
    "        return \"\"\n",
    "    # return one character at position ixIn\n",
    "    else:\n",
    "        return strIn[ixIn]"
   ]
  },
  {
   "cell_type": "markdown",
   "metadata": {},
   "source": [
    "Example: Gradient from horizontal and vertical distance"
   ]
  },
  {
   "cell_type": "code",
   "execution_count": 4,
   "metadata": {},
   "outputs": [
    {
     "name": "stdout",
     "output_type": "stream",
     "text": [
      "[10.0, 13.52941176470588, 4.761904761904762, 32.8]\n"
     ]
    }
   ],
   "source": [
    "dxy= [20.0, 17.0, 21.0, 25] # xydistance\n",
    "dz= [2.0, 2.3, 1.0, 8.2] # z distance\n",
    "\n",
    "# map() function is used to apply a function on all the elements of specified iterable and return map object\n",
    "# A lambda function can take any number of arguments, but can only have one expression\n",
    "# Syntax: lambda arguments : expression\n",
    "\n",
    "# so here I can use grad function with two arguments X and Y\n",
    "grad = map(lambda x, y: 100 * y/x, dxy, dz)\n",
    "\n",
    "print(list(grad))"
   ]
  },
  {
   "cell_type": "code",
   "execution_count": 5,
   "metadata": {},
   "outputs": [],
   "source": [
    "for i,g in enumerate(grad):\n",
    "    print(\"Gradient fuer %i in Prozent: %4.1f\" % (i,g))"
   ]
  },
  {
   "cell_type": "markdown",
   "metadata": {},
   "source": [
    "How to transform a simple list into a nested list (if -1 is a border btw these two nested lists)? (refers to line 31)"
   ]
  },
  {
   "cell_type": "code",
   "execution_count": 3,
   "metadata": {},
   "outputs": [
    {
     "data": {
      "text/plain": [
       "[[0, 1, 2, 3], [4, 7, 6, 5]]"
      ]
     },
     "execution_count": 3,
     "metadata": {},
     "output_type": "execute_result"
    }
   ],
   "source": [
    "orig2lst = ['0','1','2','3','-1','4','7','6','5','-1']\n",
    "\n",
    "def cutter(inlst, outlst, sep):\n",
    "    buf= []\n",
    "    while(inlst):\n",
    "        e = inlst.pop(0)\n",
    "        if e != sep:\n",
    "            buf.append(int(e))\n",
    "        else:\n",
    "            outlst.append(buf)\n",
    "            buf= []\n",
    "    return outlst\n",
    "\n",
    "cutter(orig2lst, [], '-1')"
   ]
  },
  {
   "cell_type": "code",
   "execution_count": 6,
   "metadata": {},
   "outputs": [],
   "source": [
    "origlst= [0, -1.9, 3, 99, 2, 4.4, 'strange', True]\n",
    "def purify(inlst):\n",
    "    ilst= []; \n",
    "    flst= []; \n",
    "    slst= [];\n",
    "    for item in inlst:\n",
    "        if isinstance(item, int):     # type check 1\n",
    "            ilst.append(item)\n",
    "        elif isinstance(item, float): # type check 2\n",
    "            flst.append(item)\n",
    "        elif isinstance(item, str):   # type check 3\n",
    "            slst.append(item)\n",
    "    return (ilst, flst, slst)"
   ]
  },
  {
   "cell_type": "code",
   "execution_count": 8,
   "metadata": {},
   "outputs": [
    {
     "data": {
      "text/plain": [
       "([0, 3, 99, 2, True], [-1.9, 4.4], ['strange'])"
      ]
     },
     "execution_count": 8,
     "metadata": {},
     "output_type": "execute_result"
    }
   ],
   "source": [
    "purify(origlst)"
   ]
  },
  {
   "cell_type": "markdown",
   "metadata": {},
   "source": [
    "***Stumbling Blocks:***"
   ]
  },
  {
   "cell_type": "markdown",
   "metadata": {},
   "source": [
    "Copies can be tricky:"
   ]
  },
  {
   "cell_type": "code",
   "execution_count": 11,
   "metadata": {},
   "outputs": [
    {
     "name": "stdout",
     "output_type": "stream",
     "text": [
      "4 2\n"
     ]
    }
   ],
   "source": [
    "#Objects\n",
    "x = 4\n",
    "y = x\n",
    "y = 2\n",
    "print(x, y)"
   ]
  },
  {
   "cell_type": "code",
   "execution_count": 13,
   "metadata": {},
   "outputs": [
    {
     "name": "stdout",
     "output_type": "stream",
     "text": [
      "[1, 2, 4] [1, 2, 4]\n"
     ]
    }
   ],
   "source": [
    "#Lists\n",
    "x = [1,2,3,4]\n",
    "y = x\n",
    "y.remove(3)\n",
    "print(x, y)"
   ]
  },
  {
   "cell_type": "markdown",
   "metadata": {},
   "source": [
    "Consequence: If you have a list and intend to modify a copy only, the solution above fails! Perform a deep copy instead:"
   ]
  },
  {
   "cell_type": "code",
   "execution_count": 14,
   "metadata": {},
   "outputs": [
    {
     "name": "stdout",
     "output_type": "stream",
     "text": [
      "[1, 2, 3, 4] [1, 2, 4]\n"
     ]
    }
   ],
   "source": [
    "import copy\n",
    "x = [1,2,3,4]\n",
    "y = copy.deepcopy(x)\n",
    "y.remove(3)\n",
    "print(x, y)"
   ]
  },
  {
   "cell_type": "code",
   "execution_count": 15,
   "metadata": {},
   "outputs": [
    {
     "name": "stdout",
     "output_type": "stream",
     "text": [
      "[1, 2, 3, 4] [1, 2, 4]\n"
     ]
    }
   ],
   "source": [
    "#Slicing\n",
    "x = [1,2,3,4]\n",
    "y = x[:]\n",
    "y.remove(3)\n",
    "print(x, y)"
   ]
  },
  {
   "cell_type": "markdown",
   "metadata": {},
   "source": [
    "Object identity and value identity may not be messed up:"
   ]
  },
  {
   "cell_type": "code",
   "execution_count": 22,
   "metadata": {},
   "outputs": [
    {
     "name": "stdout",
     "output_type": "stream",
     "text": [
      "1: a and b have same identity\n",
      "2: a and b have same identity\n",
      "3: a and b have same value\n"
     ]
    }
   ],
   "source": [
    "a = 20\n",
    "b = 20\n",
    "if ( a is b ): # is tests for identical objects\n",
    "    print(\"1: a and b have same identity\")\n",
    "else:\n",
    "    print(\"1: a and b do not have same identity\")\n",
    "if ( id(a) == id(b) ): # id… tests for identical object id\n",
    "    print(\"2: a and b have same identity\")\n",
    "else:\n",
    "    print(\"2: a and b do not have same identity\")\n",
    "if ( a == b ): # == tests for identical value\n",
    "    print(\"3: a and b have same value\")\n",
    "else:\n",
    "    print(\"3: a and b do not have same value\")"
   ]
  },
  {
   "cell_type": "code",
   "execution_count": 23,
   "metadata": {},
   "outputs": [
    {
     "name": "stdout",
     "output_type": "stream",
     "text": [
      "4: a and c have same identity\n",
      "5: a and c have same identity\n",
      "6: a and c have same value\n"
     ]
    }
   ],
   "source": [
    "c = copy.deepcopy(a)\n",
    "if ( a is c ): # is tests for identical objects\n",
    "    print(\"4: a and c have same identity\")\n",
    "else:\n",
    "    print(\"4: a and cdo not have same identity\")\n",
    "if ( id(a) == id(c) ): # id… tests for identical object id\n",
    "    print(\"5: a and c have same identity\")\n",
    "else:\n",
    "    print (\"5: a and c do not have same identity\")\n",
    "if ( a == c): # == tests for identical value\n",
    "    print(\"6: a and c have same value\")\n",
    "else:\n",
    "    print(\"6: a and c do not have same value\")"
   ]
  },
  {
   "cell_type": "code",
   "execution_count": 21,
   "metadata": {},
   "outputs": [
    {
     "name": "stdout",
     "output_type": "stream",
     "text": [
      "7: a and b do not have same identity\n",
      "8: a and b do not have same identity\n"
     ]
    }
   ],
   "source": [
    "b = 30\n",
    "if ( a is b ):\n",
    "    print(\"7: a and b have same identity\")\n",
    "else:\n",
    "    print(\"7: a and b do not have same identity\")\n",
    "if ( a is not b ):\n",
    "    print(\"8: a and b do not have same identity\")\n",
    "else:\n",
    "    print(\"8: a and b have same identity\")"
   ]
  },
  {
   "cell_type": "markdown",
   "metadata": {},
   "source": [
    "In a program we analyse a list and decide to eliminate n members using their known list indices."
   ]
  },
  {
   "cell_type": "code",
   "execution_count": 25,
   "metadata": {},
   "outputs": [
    {
     "name": "stdout",
     "output_type": "stream",
     "text": [
      "[0, 1, 4, 5]\n"
     ]
    }
   ],
   "source": [
    "origLst = [0,1,2,3,4,5] # our list\n",
    "delIndices = [2,3] # indices earmarked to delete\n",
    "# now start with the highest index instead:\n",
    "for ix in reversed(delIndices):\n",
    "    del origLst[ix]\n",
    "print(origLst)"
   ]
  },
  {
   "cell_type": "markdown",
   "metadata": {},
   "source": [
    "Delete Members can also be performed using list comprehension"
   ]
  },
  {
   "cell_type": "code",
   "execution_count": 30,
   "metadata": {},
   "outputs": [
    {
     "name": "stdout",
     "output_type": "stream",
     "text": [
      "[0, 1, 4, 5]\n"
     ]
    }
   ],
   "source": [
    "origLst = [0,1,2,3,4,5] # our list\n",
    "delIndices = [2,3] # the indices of members to go\n",
    "\n",
    "#now use list comprehension instead (only one line)\n",
    "[m for ix, m in enumerate(origLst) if ix not in delIndices]\n",
    "\n",
    "delValues = [origLst[ix] for ix in delIndices] \n",
    "for v in delValues:\n",
    "    origLst.remove(v)\n",
    "    \n",
    "print(origLst)"
   ]
  },
  {
   "cell_type": "markdown",
   "metadata": {},
   "source": [
    "What would remove all members with a specific value from the list?"
   ]
  },
  {
   "cell_type": "code",
   "execution_count": 32,
   "metadata": {},
   "outputs": [
    {
     "data": {
      "text/plain": [
       "[5, 4, 3, 4, 3, 6, 8]"
      ]
     },
     "execution_count": 32,
     "metadata": {},
     "output_type": "execute_result"
    }
   ],
   "source": [
    "origLst= [5,4,3,4,2,3,6,8,2] \n",
    "# get rid of all members with the value 2\n",
    "[o for o in origLst if o != 2]"
   ]
  },
  {
   "cell_type": "markdown",
   "metadata": {},
   "source": [
    "How can we retrieve all indices of members of a given value (2)?"
   ]
  },
  {
   "cell_type": "code",
   "execution_count": 35,
   "metadata": {},
   "outputs": [
    {
     "data": {
      "text/plain": [
       "[2, 7, 8]"
      ]
     },
     "execution_count": 35,
     "metadata": {},
     "output_type": "execute_result"
    }
   ],
   "source": [
    "origLst= [4,3,2,1,5,4,3,2,2]\n",
    "[ix for ix, m in enumerate(origLst) if m == 2]"
   ]
  },
  {
   "cell_type": "markdown",
   "metadata": {},
   "source": [
    "How to retrieve indices of all identical members from two lists?"
   ]
  },
  {
   "cell_type": "code",
   "execution_count": 38,
   "metadata": {},
   "outputs": [
    {
     "data": {
      "text/plain": [
       "[2]"
      ]
     },
     "execution_count": 38,
     "metadata": {},
     "output_type": "execute_result"
    }
   ],
   "source": [
    "oLst0 = [1,2,3,4,5]\n",
    "oLst1 = [5,4,3,2,1]\n",
    "[ix for ix, (a, b) in enumerate(zip(oLst0, oLst1)) if a == b]"
   ]
  },
  {
   "cell_type": "markdown",
   "metadata": {},
   "source": [
    "**Numpy**"
   ]
  },
  {
   "cell_type": "markdown",
   "metadata": {},
   "source": [
    "Package for very concise and fast work with multi-dimensional array objects."
   ]
  },
  {
   "cell_type": "code",
   "execution_count": 2,
   "metadata": {},
   "outputs": [],
   "source": [
    "import numpy as np"
   ]
  },
  {
   "cell_type": "markdown",
   "metadata": {},
   "source": [
    "A nested list is stored as a numpyarray, whilst the outer brackets enclose row elements, and the inner brackets enclose the column elements."
   ]
  },
  {
   "cell_type": "code",
   "execution_count": 3,
   "metadata": {},
   "outputs": [
    {
     "name": "stdout",
     "output_type": "stream",
     "text": [
      "[[ 1  2  3  4]\n",
      " [ 5  6  7  8]\n",
      " [ 9 10 11 12]]\n"
     ]
    }
   ],
   "source": [
    "a = np.array( [[1,2,3,4], [5,6,7,8], [9,10,11,12]] )\n",
    "print(a)"
   ]
  },
  {
   "cell_type": "code",
   "execution_count": 4,
   "metadata": {},
   "outputs": [
    {
     "data": {
      "text/plain": [
       "(3, 4)"
      ]
     },
     "execution_count": 4,
     "metadata": {},
     "output_type": "execute_result"
    }
   ],
   "source": [
    "# query the shape of the array\n",
    "a.shape"
   ]
  },
  {
   "cell_type": "code",
   "execution_count": 5,
   "metadata": {},
   "outputs": [
    {
     "name": "stdout",
     "output_type": "stream",
     "text": [
      "[[ 1  2  3]\n",
      " [ 4  5  6]\n",
      " [ 7  8  9]\n",
      " [10 11 12]]\n"
     ]
    }
   ],
   "source": [
    "# change the shape from 3 x 4 into 4 x 3\n",
    "a = np.reshape(a, (4,3))\n",
    "print(a)"
   ]
  },
  {
   "cell_type": "code",
   "execution_count": 6,
   "metadata": {},
   "outputs": [
    {
     "data": {
      "text/plain": [
       "8"
      ]
     },
     "execution_count": 6,
     "metadata": {},
     "output_type": "execute_result"
    }
   ],
   "source": [
    "# extract or modify individual elements by n-dimensional indexing\n",
    "a[2,1]"
   ]
  },
  {
   "cell_type": "code",
   "execution_count": 7,
   "metadata": {},
   "outputs": [
    {
     "name": "stdout",
     "output_type": "stream",
     "text": [
      "[[ 1  2  3]\n",
      " [ 4  5  6]\n",
      " [ 7 18  9]\n",
      " [10 11 12]]\n"
     ]
    }
   ],
   "source": [
    "a[2,1] = 18\n",
    "print(a)"
   ]
  },
  {
   "cell_type": "code",
   "execution_count": 8,
   "metadata": {},
   "outputs": [
    {
     "name": "stdout",
     "output_type": "stream",
     "text": [
      "[[ 1  2  3]\n",
      " [ 4  5  6]\n",
      " [ 7 18  9]\n",
      " [10 11 12]\n",
      " [13 14 15]]\n"
     ]
    }
   ],
   "source": [
    "# adding a new row b\n",
    "b = np.array( [13, 14, 15] )\n",
    "a = np.vstack((a,b))\n",
    "print(a)"
   ]
  },
  {
   "cell_type": "code",
   "execution_count": 9,
   "metadata": {},
   "outputs": [
    {
     "name": "stdout",
     "output_type": "stream",
     "text": [
      "[[ 1  2  3 16]\n",
      " [ 4  5  6 17]\n",
      " [ 7 18  9 18]\n",
      " [10 11 12 19]\n",
      " [13 14 15 20]]\n"
     ]
    }
   ],
   "source": [
    "# a new column c\n",
    "c = np.array( [16, 17, 18, 19, 20] )\n",
    "a = np.hstack((a, np.reshape(c, (5,1))))\n",
    "print(a)"
   ]
  },
  {
   "cell_type": "markdown",
   "metadata": {},
   "source": [
    "complex data types can be defined and handled by a numpyarray:"
   ]
  },
  {
   "cell_type": "code",
   "execution_count": 10,
   "metadata": {},
   "outputs": [
    {
     "name": "stdout",
     "output_type": "stream",
     "text": [
      "[('stat', '<U20'), ('code', '<u2')]\n"
     ]
    }
   ],
   "source": [
    "mytype = np.dtype([('stat', np.unicode_, 20), ('code', np.uint16)])\n",
    "print(mytype)"
   ]
  },
  {
   "cell_type": "markdown",
   "metadata": {},
   "source": [
    "perform operations element by element without explicit looping:"
   ]
  },
  {
   "cell_type": "code",
   "execution_count": 11,
   "metadata": {},
   "outputs": [
    {
     "name": "stdout",
     "output_type": "stream",
     "text": [
      "[[-5 -4 -3]\n",
      " [-2 -1  0]\n",
      " [ 1  2  3]\n",
      " [ 4  5  6]\n",
      " [ 7  8  9]]\n"
     ]
    }
   ],
   "source": [
    "d = np.array( [[-5, -4, -3], [-2, -1, 0], [1, 2, 3], [4, 5, 6], [7, 8, 9]] )\n",
    "print(d)"
   ]
  },
  {
   "cell_type": "markdown",
   "metadata": {},
   "source": [
    "mask parts of an array using a booleanarray of equal size:"
   ]
  },
  {
   "cell_type": "code",
   "execution_count": 13,
   "metadata": {},
   "outputs": [
    {
     "name": "stdout",
     "output_type": "stream",
     "text": [
      "[[ True False  True]\n",
      " [ True False  True]\n",
      " [ True False  True]\n",
      " [ True False  True]\n",
      " [ True False  True]]\n"
     ]
    }
   ],
   "source": [
    "mask = np.array( 5 * [True, False, True] )\n",
    "mask = np.reshape( mask, (5,3) )\n",
    "print(mask)"
   ]
  },
  {
   "cell_type": "code",
   "execution_count": 20,
   "metadata": {},
   "outputs": [
    {
     "name": "stdout",
     "output_type": "stream",
     "text": [
      "[[ 1  2  3 16]\n",
      " [ 4  5  6 17]\n",
      " [ 7 18  9 18]\n",
      " [10 11 12 19]\n",
      " [13 14 15 20]]\n"
     ]
    },
    {
     "data": {
      "text/plain": [
       "array([ 1,  2,  3, 16])"
      ]
     },
     "execution_count": 20,
     "metadata": {},
     "output_type": "execute_result"
    }
   ],
   "source": [
    "print(a)\n",
    "a[0,:]"
   ]
  },
  {
   "cell_type": "code",
   "execution_count": 17,
   "metadata": {},
   "outputs": [
    {
     "data": {
      "text/plain": [
       "array([ 3,  6,  9, 12, 15])"
      ]
     },
     "execution_count": 17,
     "metadata": {},
     "output_type": "execute_result"
    }
   ],
   "source": [
    "a[:,2]"
   ]
  },
  {
   "cell_type": "code",
   "execution_count": 19,
   "metadata": {},
   "outputs": [
    {
     "data": {
      "text/plain": [
       "array([[13, 14, 15, 20],\n",
       "       [10, 11, 12, 19],\n",
       "       [ 7, 18,  9, 18],\n",
       "       [ 4,  5,  6, 17],\n",
       "       [ 1,  2,  3, 16]])"
      ]
     },
     "execution_count": 19,
     "metadata": {},
     "output_type": "execute_result"
    }
   ],
   "source": [
    "#reverses row order\n",
    "a[::-1]"
   ]
  },
  {
   "cell_type": "code",
   "execution_count": 21,
   "metadata": {},
   "outputs": [
    {
     "data": {
      "text/plain": [
       "array([[ 1,  2,  3, 16],\n",
       "       [ 7, 18,  9, 18],\n",
       "       [13, 14, 15, 20]])"
      ]
     },
     "execution_count": 21,
     "metadata": {},
     "output_type": "execute_result"
    }
   ],
   "source": [
    "#extract every second row\n",
    "a[::2]"
   ]
  },
  {
   "cell_type": "markdown",
   "metadata": {},
   "source": [
    "calculate various array statistics"
   ]
  },
  {
   "cell_type": "code",
   "execution_count": 23,
   "metadata": {},
   "outputs": [
    {
     "data": {
      "text/plain": [
       "11.0"
      ]
     },
     "execution_count": 23,
     "metadata": {},
     "output_type": "execute_result"
    }
   ],
   "source": [
    "#mean\n",
    "np.mean(a)"
   ]
  },
  {
   "cell_type": "code",
   "execution_count": 26,
   "metadata": {},
   "outputs": [
    {
     "data": {
      "text/plain": [
       "array([[ 22,  28],\n",
       "       [ 49,  64],\n",
       "       [ 76, 100]])"
      ]
     },
     "execution_count": 26,
     "metadata": {},
     "output_type": "execute_result"
    }
   ],
   "source": [
    "#matrix algebra operations\n",
    "a = [[1, 2, 3], [4, 5, 6], [7, 8, 9]]\n",
    "b = [[1, 2], [3, 4], [5,6]]\n",
    "c = np.dot(a, b)\n",
    "c"
   ]
  },
  {
   "cell_type": "markdown",
   "metadata": {},
   "source": [
    "* Calculate distance between coordinates"
   ]
  },
  {
   "cell_type": "code",
   "execution_count": 3,
   "metadata": {},
   "outputs": [
    {
     "name": "stdout",
     "output_type": "stream",
     "text": [
      "6.324555320336759\n"
     ]
    }
   ],
   "source": [
    "import math\n",
    "a = [4,0] \n",
    "b = [6,6]\n",
    "\n",
    "distance = math.sqrt((a[0] - b[0])**2 + (a[1] - b[1])**2)\n",
    "print(distance)"
   ]
  },
  {
   "cell_type": "markdown",
   "metadata": {},
   "source": [
    "* Find same values in two lists"
   ]
  },
  {
   "cell_type": "code",
   "execution_count": 6,
   "metadata": {},
   "outputs": [
    {
     "name": "stdout",
     "output_type": "stream",
     "text": [
      "[3, 4]\n"
     ]
    }
   ],
   "source": [
    "a = [0, 1, 2, 3, 4]\n",
    "b = [3, 4, 5]\n",
    "\n",
    "c = []\n",
    "\n",
    "for i in a:\n",
    "    if i in b:\n",
    "        c.append(i)\n",
    "        \n",
    "print(c)"
   ]
  }
 ],
 "metadata": {
  "kernelspec": {
   "display_name": "Python 3",
   "language": "python",
   "name": "python3"
  },
  "language_info": {
   "codemirror_mode": {
    "name": "ipython",
    "version": 3
   },
   "file_extension": ".py",
   "mimetype": "text/x-python",
   "name": "python",
   "nbconvert_exporter": "python",
   "pygments_lexer": "ipython3",
   "version": "3.7.4"
  }
 },
 "nbformat": 4,
 "nbformat_minor": 2
}
