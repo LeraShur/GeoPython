{
 "cells": [
  {
   "cell_type": "markdown",
   "metadata": {},
   "source": [
    "Problem 1 - Defining some variables"
   ]
  },
  {
   "cell_type": "code",
   "execution_count": 21,
   "metadata": {},
   "outputs": [],
   "source": [
    "ice_cream_rating = 3;\n",
    "sleeping_rating = 10;"
   ]
  },
  {
   "cell_type": "markdown",
   "metadata": {},
   "source": [
    "Problem 2 - Reading in variable values"
   ]
  },
  {
   "cell_type": "code",
   "execution_count": null,
   "metadata": {},
   "outputs": [],
   "source": [
    "first_name = input(\"Enter your first name:\");\n",
    "last_name = input(\"Enter your last name:\");\n",
    "my_name = first_name + ' ' + last_name;\n",
    "print(\"Your full name is\" + ' ' + my_name);"
   ]
  },
  {
   "cell_type": "markdown",
   "metadata": {},
   "source": [
    "Problem 3 - A bit of math"
   ]
  },
  {
   "cell_type": "code",
   "execution_count": null,
   "metadata": {},
   "outputs": [],
   "source": [
    "happiness_rating = (ice_cream_rating + sleeping_rating) / 2;"
   ]
  },
  {
   "cell_type": "markdown",
   "metadata": {},
   "source": [
    "Problem 4 - Checking data types"
   ]
  },
  {
   "cell_type": "code",
   "execution_count": null,
   "metadata": {},
   "outputs": [],
   "source": [
    "print(type(ice_cream_rating));\n",
    "print(type(first_name));\n",
    "print(type(happiness_rating));"
   ]
  },
  {
   "cell_type": "markdown",
   "metadata": {},
   "source": [
    "Problem 5 - Displaying text on the screen"
   ]
  },
  {
   "cell_type": "code",
   "execution_count": null,
   "metadata": {},
   "outputs": [],
   "source": [
    "happiness_rating_percent = happiness_rating * 10;\n",
    "print(\"My name is\" + ' ' + first_name + ' ' + \"and I give eating ice cream a score of\" + ' ' + str(ice_cream_rating) + ' ' + \"out of 10!\");\n",
    "print(\"I am\" + ' ' + my_name + \" and my sleeping enjoyment rating is\" + ' ' + str(sleeping_rating) + ' ' + \"/ 10!\");\n",
    "print(\"Based on the factors above, my happiness rating is\" + ' ' + str(happiness_rating) + ' ' + \"out of 10, or\" + ' ' + str(happiness_rating_percent) + ' ' + \"%!\");"
   ]
  },
  {
   "cell_type": "code",
   "execution_count": null,
   "metadata": {},
   "outputs": [],
   "source": []
  }
 ],
 "metadata": {
  "kernelspec": {
   "display_name": "Python 3",
   "language": "python",
   "name": "python3"
  },
  "language_info": {
   "codemirror_mode": {
    "name": "ipython",
    "version": 3
   },
   "file_extension": ".py",
   "mimetype": "text/x-python",
   "name": "python",
   "nbconvert_exporter": "python",
   "pygments_lexer": "ipython3",
   "version": "3.7.3"
  }
 },
 "nbformat": 4,
 "nbformat_minor": 2
}
